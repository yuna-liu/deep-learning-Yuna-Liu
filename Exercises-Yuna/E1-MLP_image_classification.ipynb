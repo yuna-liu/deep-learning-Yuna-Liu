{
 "cells": [
  {
   "cell_type": "markdown",
   "metadata": {},
   "source": [
    "\n",
    "<a href=\"https://colab.research.google.com/github/kokchun/Deep-learning-AI21/blob/main/Exercises/E1-MLP_image_classification.ipynb\" target=\"_parent\"><img align=\"left\" src=\"https://colab.research.google.com/assets/colab-badge.svg\" alt=\"Open In Colab\"/></a> &nbsp; to see hints and answers."
   ]
  },
  {
   "cell_type": "markdown",
   "metadata": {},
   "source": [
    "---\n",
    "# Multilayered perceptron (MLP) image classification exercises \n",
    "\n",
    "---\n",
    "These are introductory exercises in Deep learning with focus in **MLP** for image classification.\n",
    "\n",
    "<p class = \"alert alert-info\" role=\"alert\"><b>Note</b> that sometimes you don't get exactly the same answer as I get, but it doesn't neccessarily mean it is wrong. Could be some parameters, randomization, that we have different. Also very important is that in the future there won't be any answer sheets, use your skills in data analysis, mathematics and statistics to back up your work.</p>\n",
    "\n",
    "<p class = \"alert alert-info\" role=\"alert\"><b>Note</b> that in cases when you start to repeat code, try not to. Create functions to reuse code instead. </p>\n",
    "\n",
    "<p class = \"alert alert-info\" role=\"alert\"><b>Remember</b> to use <b>descriptive variable, function, index </b> and <b> column names</b> in order to get readable code </p>\n",
    "\n",
    "The number of stars (\\*), (\\*\\*), (\\*\\*\\*) denotes the difficulty level of the task\n",
    "\n",
    "---"
   ]
  },
  {
   "cell_type": "markdown",
   "metadata": {},
   "source": [
    "## 0. Fashion dataset (*)\n",
    "\n",
    "Zalando has provided an MNIST dataset for fashion, with the format very similar to the original MNIST digits dataset. Start with loading this fashion dataset from TensorFlow Keras. \n",
    "\n",
    "&nbsp; a) Start visualizing some of the sample images \n",
    "\n",
    "&nbsp; b) Normalize the images to values between 0 and 1 \n",
    "\n",
    "&nbsp; c) Visualize same images as before, do you see any difference? \n",
    "\n",
    "&nbsp; d) Make histogram of a sample image before and after normalization. What do you notice? \n",
    "\n",
    "&nbsp; e) Check if the dataset is balanced.\n",
    "\n",
    "<details>\n",
    "\n",
    "<summary>Hint</summary>\n",
    "\n",
    "</details>\n",
    "\n",
    "<details>\n",
    "\n",
    "<summary>Answer</summary>\n",
    "\n",
    "No answers here, discuss with your fellow data scientists to move forward if you're stuck.\n",
    "\n",
    "\n",
    "</details>\n",
    "\n",
    "---"
   ]
  },
  {
   "cell_type": "markdown",
   "metadata": {},
   "source": [
    "## 1. MLP architecture (*)\n",
    "\n",
    "As we know from the lectures, there are no certain mathematical rules for choosing number of nodes and hidden layers. What we can do is to do trial and error, but it would be expensive to not have any guidelines. Look at this [video](https://www.youtube.com/watch?v=bqBRET7tbiQ) and this [blog article ](https://towardsdatascience.com/17-rules-of-thumb-for-building-a-neural-network-93356f9930af) for rule of thumbs. Note that this will be computationally expensive on your laptop for larger networks and higher resolution images. Log in to kaggle and create a jupyter notebook inside kaggle and enable GPU. Remember to shut off the GPU after you're done with your work, you get a certain amount of quotas every week. \n",
    "\n",
    "&nbsp; a) Create a network with no hidden layers, fit the model for 50 epochs. Use 10000 samples for validation. \n",
    "\n",
    "&nbsp; b) Plot training loss vs validation loss and accuracy against validation accuracy. \n",
    "\n",
    "&nbsp; c) Repeat a) and b) for hidden_layers $\\in \\{1,2,3\\}$\n",
    "\n",
    "&nbsp; d) Add dropout layers and choose a rate of dropout, and perform a few experiments. Note that you shouldn't add dropout layers after input layer and after output layer. \n",
    "\n",
    "&nbsp; f) Define an experiment you want to investigate and perform it.\n",
    "\n",
    "&nbsp; g) Choose a model from your experiments. \n",
    "\n",
    "\n",
    "<details>\n",
    "\n",
    "<summary>Hint</summary>\n",
    "\n",
    "d) Hidden layers are used to decrease overfitting. Can you see how it impacts your loss curves?\n",
    "\n",
    "</details>\n",
    "\n",
    "<details>\n",
    "\n",
    "<summary>Answer</summary>\n",
    "\n",
    "No answers here, discuss with your fellow data scientists to move forward if you're stuck.\n",
    "\n",
    "\n",
    "</details>\n",
    "\n",
    "---"
   ]
  },
  {
   "cell_type": "markdown",
   "metadata": {},
   "source": [
    "## 2. Predict and evaluate (*)\n",
    "\n",
    "Use the model you've chosen from 1. and train on all training data. Also add early stopping to further avoid overfitting. Predict on the test data and evaluate your model.\n",
    "\n",
    "&nbsp; a) Which item was hardest to classify? Do you have any ideas of why?\n",
    "\n",
    "&nbsp; b) Show a few samples from each category that was misclassified.\n",
    "\n",
    "<details>\n",
    "\n",
    "<summary>Answer</summary>\n",
    "\n",
    "No answers here, discuss with your fellow data scientists to move forward if you're stuck.\n",
    "\n",
    "\n",
    "</details>\n"
   ]
  },
  {
   "cell_type": "markdown",
   "metadata": {},
   "source": [
    "---\n",
    "\n",
    "Kokchun Giang\n",
    "\n",
    "[LinkedIn][linkedIn_kokchun]\n",
    "\n",
    "[GitHub portfolio][github_portfolio]\n",
    "\n",
    "[linkedIn_kokchun]: https://www.linkedin.com/in/kokchungiang/\n",
    "[github_portfolio]: https://github.com/kokchun/Portfolio-Kokchun-Giang\n",
    "\n",
    "---"
   ]
  }
 ],
 "metadata": {
  "language_info": {
   "name": "python"
  },
  "orig_nbformat": 4
 },
 "nbformat": 4,
 "nbformat_minor": 2
}
