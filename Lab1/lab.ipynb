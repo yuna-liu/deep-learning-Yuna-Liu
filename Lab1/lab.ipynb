{
 "cells": [
  {
   "cell_type": "markdown",
   "metadata": {},
   "source": [
    "### Laboration deep learning AI21\n",
    "---\n",
    "Syftet med den här labben är att använda deep learning för computer vision för att lära sig att klassificera\n",
    "olika objekt.\n",
    "I den här labben kommer du få jobba med bildbehandling, filhantering, bygga upp egna tränings, validerings\n",
    "och testdataset från en mängd av bilder. Vidare får du jobba med begränsade datamängder för att efterlikna\n",
    "verkligheten när dataanskaffning är en oerhört dyr process. Efter databehandlingen och databearbetningen\n",
    "kommer du få pröva olika slags convolutional neural networks tränade från scratch och slutligen använda\n",
    "dig av transfer learning för att återanvända nätverk skapade av toppforskare inom computer vision."
   ]
  },
  {
   "cell_type": "markdown",
   "metadata": {},
   "source": [
    "---\n",
    "0. EDA och filhantering (*)\n",
    "\n",
    "a) Börja med att ladda ned datasetet Dogs vs Cats från Kaggle. Extrahera den och lägg den i din labfolder,\n",
    "glöm inte att lägga till den till .gitignore."
   ]
  },
  {
   "cell_type": "code",
   "execution_count": null,
   "metadata": {},
   "outputs": [],
   "source": [
    "import numpy as np\n",
    "import pandas as pd\n",
    "import matplotlib.pyplot as plt\n",
    "import cv2\n",
    "import random\n",
    "import os"
   ]
  },
  {
   "cell_type": "markdown",
   "metadata": {},
   "source": [
    "b) Läs in 10 bilder slumpmässigt, plotta dem och extrahera deras labels och skriv ut i titeln."
   ]
  },
  {
   "cell_type": "markdown",
   "metadata": {},
   "source": [
    "c) Skapa folderstrukturen nedan med Python, Notera att det är okej att ha fler pythonskript, notebooks, fler experiment, eller annat relevant i labbfoldern. Glöm inte att ha gitignore på datafilerna."
   ]
  },
  {
   "cell_type": "markdown",
   "metadata": {},
   "source": [
    "d) Nu ska du göra train|val|test split med följande splits:\n",
    "\n",
    "experiment_small\n",
    "- train - 1600 (800 dogs, 800 cats)\n",
    "- val - 400 (200 dogs, 200 cats)\n",
    "- test - 500 (250 dogs, 250 cats)\n",
    "\n",
    "experiment_tiny (BONUS)\n",
    "- train - 160 (80 dogs, 80 cats)\n",
    "- val - 40 (20 dogs, 20 cats)\n",
    "- test - 50 (25 dogs, 25 cats)"
   ]
  }
 ],
 "metadata": {
  "language_info": {
   "name": "python"
  },
  "orig_nbformat": 4
 },
 "nbformat": 4,
 "nbformat_minor": 2
}
