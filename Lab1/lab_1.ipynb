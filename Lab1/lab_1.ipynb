{
 "cells": [
  {
   "cell_type": "markdown",
   "metadata": {},
   "source": [
    "### 1. Bildbehandling (*)\n",
    "Uppgifterna nedan ska upprepas för respektive experimentdataset om du också väljer att arbeta med\n",
    "tinydatasetet.\n"
   ]
  },
  {
   "cell_type": "markdown",
   "metadata": {},
   "source": [
    "- a) Skapa en plot för att visualisera bildstorlekarna i träningsdatan. Använd seaborns jointplot.\n"
   ]
  },
  {
   "cell_type": "markdown",
   "metadata": {},
   "source": [
    "- b) Välj en lämplig bildstorlek att ändra samtliga bilder till. Gör en analys och fundera på om du behöver\n",
    "slänga bilder. Hur kommer du fram till ditt val?\n"
   ]
  },
  {
   "cell_type": "markdown",
   "metadata": {},
   "source": [
    "- c) Gör resize sådant att samtliga bilder är samma storlek och spara dem i numpy arrays med följande\n",
    "struktur:"
   ]
  },
  {
   "cell_type": "code",
   "execution_count": null,
   "metadata": {},
   "outputs": [],
   "source": []
  }
 ],
 "metadata": {
  "language_info": {
   "name": "python"
  },
  "orig_nbformat": 4
 },
 "nbformat": 4,
 "nbformat_minor": 2
}
