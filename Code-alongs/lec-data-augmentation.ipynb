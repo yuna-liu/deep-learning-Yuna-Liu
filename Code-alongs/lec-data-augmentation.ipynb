{
 "cells": [
  {
   "cell_type": "markdown",
   "id": "b6493472",
   "metadata": {
    "papermill": {
     "duration": 0.018559,
     "end_time": "2022-04-28T08:53:25.704651",
     "exception": false,
     "start_time": "2022-04-28T08:53:25.686092",
     "status": "completed"
    },
    "tags": []
   },
   "source": [
    "# Data augmentation\n",
    "- artificiellt skapa fler bilder\n",
    "- slumpmässigt:\n",
    "  - roterar till en viss grad (radianer)\n",
    "  - translatera slumpmässigt\n",
    "  - flippa horisontellt, vertikalt (spegla)\n",
    "  - shear\n",
    "  - ..."
   ]
  },
  {
   "cell_type": "code",
   "execution_count": 1,
   "id": "e27dd388",
   "metadata": {
    "execution": {
     "iopub.execute_input": "2022-04-28T08:53:25.741442Z",
     "iopub.status.busy": "2022-04-28T08:53:25.741109Z",
     "iopub.status.idle": "2022-04-28T08:53:32.397175Z",
     "shell.execute_reply": "2022-04-28T08:53:32.396507Z"
    },
    "papermill": {
     "duration": 6.676552,
     "end_time": "2022-04-28T08:53:32.399139",
     "exception": false,
     "start_time": "2022-04-28T08:53:25.722587",
     "status": "completed"
    },
    "tags": []
   },
   "outputs": [
    {
     "name": "stdout",
     "output_type": "stream",
     "text": [
      "Downloading data from https://storage.googleapis.com/tensorflow/tf-keras-datasets/mnist.npz\n",
      "11493376/11490434 [==============================] - 0s 0us/step\n",
      "11501568/11490434 [==============================] - 0s 0us/step\n"
     ]
    },
    {
     "data": {
      "image/png": "[encoded data removed]",
      "text/plain": [
       "<Figure size 720x288 with 10 Axes>"
      ]
     },
     "metadata": {
      "needs_background": "light"
     },
     "output_type": "display_data"
    }
   ],
   "source": [
    "import seaborn as sns\n",
    "import numpy as np\n",
    "import matplotlib.pyplot as plt\n",
    "import pandas as pd\n",
    "from tensorflow.keras.datasets.mnist import load_data\n",
    "\n",
    "(X_train, y_train), (X_test, y_test) = load_data()\n",
    "y_train, y_test = y_train.ravel(), y_test.ravel()\n",
    "\n",
    "def plot_samples(data):\n",
    "    fig, axes = plt.subplots(2, 5, figsize=(10, 4))\n",
    "    for i, ax in enumerate(axes.flatten()):\n",
    "        ax.imshow(data[i], cmap = \"gray\")\n",
    "        ax.axis(\"off\")\n",
    "\n",
    "plot_samples(X_train)"
   ]
  },
  {
   "cell_type": "code",
   "execution_count": 2,
   "id": "56eab9d0",
   "metadata": {
    "execution": {
     "iopub.execute_input": "2022-04-28T08:53:32.440189Z",
     "iopub.status.busy": "2022-04-28T08:53:32.439974Z",
     "iopub.status.idle": "2022-04-28T08:53:32.549753Z",
     "shell.execute_reply": "2022-04-28T08:53:32.548889Z"
    },
    "papermill": {
     "duration": 0.13244,
     "end_time": "2022-04-28T08:53:32.551938",
     "exception": false,
     "start_time": "2022-04-28T08:53:32.419498",
     "status": "completed"
    },
    "tags": []
   },
   "outputs": [
    {
     "data": {
      "text/plain": [
       "(0.0, 1.0)"
      ]
     },
     "execution_count": 2,
     "metadata": {},
     "output_type": "execute_result"
    }
   ],
   "source": [
    "X_train = X_train.astype(\"float32\")/255\n",
    "X_test = X_test.astype(\"float32\")/255\n",
    "X_train.min(), X_train.max()"
   ]
  },
  {
   "cell_type": "markdown",
   "id": "ba1c7812",
   "metadata": {
    "papermill": {
     "duration": 0.019753,
     "end_time": "2022-04-28T08:53:32.592023",
     "exception": false,
     "start_time": "2022-04-28T08:53:32.572270",
     "status": "completed"
    },
    "tags": []
   },
   "source": [
    "## Train|val|test split"
   ]
  },
  {
   "cell_type": "code",
   "execution_count": 3,
   "id": "5be56210",
   "metadata": {
    "execution": {
     "iopub.execute_input": "2022-04-28T08:53:32.634529Z",
     "iopub.status.busy": "2022-04-28T08:53:32.633943Z",
     "iopub.status.idle": "2022-04-28T08:53:32.856428Z",
     "shell.execute_reply": "2022-04-28T08:53:32.855751Z"
    },
    "papermill": {
     "duration": 0.245739,
     "end_time": "2022-04-28T08:53:32.858234",
     "exception": false,
     "start_time": "2022-04-28T08:53:32.612495",
     "status": "completed"
    },
    "tags": []
   },
   "outputs": [
    {
     "data": {
      "text/plain": [
       "(50000, 28, 28, 1)"
      ]
     },
     "execution_count": 3,
     "metadata": {},
     "output_type": "execute_result"
    }
   ],
   "source": [
    "from sklearn.model_selection import train_test_split\n",
    "\n",
    "X_train_val, X_val, y_train_val, y_val = train_test_split(\n",
    "    X_train, y_train, test_size=1/6, random_state=42)\n",
    "\n",
    "X_train_val = X_train_val[:,:,:,None]\n",
    "X_train = X_train[:,:,:,None]\n",
    "X_val = X_val[:,:,:,None]\n",
    "X_test = X_test[:,:,:,None]\n",
    "\n",
    "X_train_val.shape"
   ]
  },
  {
   "cell_type": "markdown",
   "id": "69070562",
   "metadata": {
    "papermill": {
     "duration": 0.020002,
     "end_time": "2022-04-28T08:53:32.898776",
     "exception": false,
     "start_time": "2022-04-28T08:53:32.878774",
     "status": "completed"
    },
    "tags": []
   },
   "source": [
    "## Data augmentation"
   ]
  },
  {
   "cell_type": "code",
   "execution_count": 4,
   "id": "d928b816",
   "metadata": {
    "execution": {
     "iopub.execute_input": "2022-04-28T08:53:32.942705Z",
     "iopub.status.busy": "2022-04-28T08:53:32.942072Z",
     "iopub.status.idle": "2022-04-28T08:53:32.951637Z",
     "shell.execute_reply": "2022-04-28T08:53:32.950912Z"
    },
    "papermill": {
     "duration": 0.032575,
     "end_time": "2022-04-28T08:53:32.953343",
     "exception": false,
     "start_time": "2022-04-28T08:53:32.920768",
     "status": "completed"
    },
    "tags": []
   },
   "outputs": [
    {
     "data": {
      "text/plain": [
       "(<keras.preprocessing.image.NumpyArrayIterator at 0x7f0d5703e610>,\n",
       " <keras.preprocessing.image.NumpyArrayIterator at 0x7f0d5a804d90>)"
      ]
     },
     "execution_count": 4,
     "metadata": {},
     "output_type": "execute_result"
    }
   ],
   "source": [
    "from tensorflow.keras.preprocessing.image import ImageDataGenerator\n",
    "\n",
    "train_image_generator = ImageDataGenerator(\n",
    "    rotation_range=10,\n",
    "    shear_range=.2,\n",
    "    zoom_range=.1,\n",
    "    horizontal_flip=False,\n",
    "    height_shift_range=.2,\n",
    "    width_shift_range=.2\n",
    ")\n",
    "\n",
    "# don't augment validation and test data\n",
    "test_image_generator = ImageDataGenerator()\n",
    "\n",
    "train_val_generator = train_image_generator.flow(\n",
    "    X_train_val, y_train_val, batch_size=32)\n",
    "\n",
    "val_generator = test_image_generator.flow(X_val, y_val, batch_size=32)\n",
    "\n",
    "train_val_generator, val_generator"
   ]
  },
  {
   "cell_type": "code",
   "execution_count": 5,
   "id": "d2374734",
   "metadata": {
    "execution": {
     "iopub.execute_input": "2022-04-28T08:53:32.995823Z",
     "iopub.status.busy": "2022-04-28T08:53:32.995326Z",
     "iopub.status.idle": "2022-04-28T08:53:33.374982Z",
     "shell.execute_reply": "2022-04-28T08:53:33.374302Z"
    },
    "papermill": {
     "duration": 0.402488,
     "end_time": "2022-04-28T08:53:33.376677",
     "exception": false,
     "start_time": "2022-04-28T08:53:32.974189",
     "status": "completed"
    },
    "tags": []
   },
   "outputs": [
    {
     "name": "stdout",
     "output_type": "stream",
     "text": [
      "2\n",
      "(32, 28, 28, 1)\n"
     ]
    },
    {
     "data": {
      "text/plain": [
       "array([1, 3, 8, 1, 8, 0, 3, 3, 1, 0, 9, 7, 0, 6, 7, 6, 1, 2, 6, 2, 8, 9,\n",
       "       9, 4, 0, 2, 9, 6, 3, 8, 1, 6], dtype=uint8)"
      ]
     },
     "execution_count": 5,
     "metadata": {},
     "output_type": "execute_result"
    },
    {
     "data": {
      "image/png": "[encoded data removed]",
      "text/plain": [
       "<Figure size 720x288 with 10 Axes>"
      ]
     },
     "metadata": {
      "needs_background": "light"
     },
     "output_type": "display_data"
    }
   ],
   "source": [
    "print(len(train_val_generator.next()))\n",
    "\n",
    "sample_batch = train_val_generator.next()\n",
    "print(sample_batch[0].shape) # 32 samples in a batch\n",
    "\n",
    "plot_samples(sample_batch[0])\n",
    "sample_batch[1]"
   ]
  },
  {
   "cell_type": "markdown",
   "id": "5a2255b8",
   "metadata": {
    "papermill": {
     "duration": 0.021818,
     "end_time": "2022-04-28T08:53:33.420733",
     "exception": false,
     "start_time": "2022-04-28T08:53:33.398915",
     "status": "completed"
    },
    "tags": []
   },
   "source": [
    "## CNN model"
   ]
  },
  {
   "cell_type": "code",
   "execution_count": 6,
   "id": "0d5d51b5",
   "metadata": {
    "execution": {
     "iopub.execute_input": "2022-04-28T08:53:33.465821Z",
     "iopub.status.busy": "2022-04-28T08:53:33.465624Z",
     "iopub.status.idle": "2022-04-28T08:53:35.986281Z",
     "shell.execute_reply": "2022-04-28T08:53:35.985585Z"
    },
    "papermill": {
     "duration": 2.54545,
     "end_time": "2022-04-28T08:53:35.988168",
     "exception": false,
     "start_time": "2022-04-28T08:53:33.442718",
     "status": "completed"
    },
    "tags": []
   },
   "outputs": [
    {
     "name": "stderr",
     "output_type": "stream",
     "text": [
      "2022-04-28 08:53:33.563554: I tensorflow/stream_executor/cuda/cuda_gpu_executor.cc:937] successful NUMA node read from SysFS had negative value (-1), but there must be at least one NUMA node, so returning NUMA node zero\n",
      "2022-04-28 08:53:33.668949: I tensorflow/stream_executor/cuda/cuda_gpu_executor.cc:937] successful NUMA node read from SysFS had negative value (-1), but there must be at least one NUMA node, so returning NUMA node zero\n",
      "2022-04-28 08:53:33.669719: I tensorflow/stream_executor/cuda/cuda_gpu_executor.cc:937] successful NUMA node read from SysFS had negative value (-1), but there must be at least one NUMA node, so returning NUMA node zero\n",
      "2022-04-28 08:53:33.671528: I tensorflow/core/platform/cpu_feature_guard.cc:142] This TensorFlow binary is optimized with oneAPI Deep Neural Network Library (oneDNN) to use the following CPU instructions in performance-critical operations:  AVX2 AVX512F FMA\n",
      "To enable them in other operations, rebuild TensorFlow with the appropriate compiler flags.\n",
      "2022-04-28 08:53:33.671850: I tensorflow/stream_executor/cuda/cuda_gpu_executor.cc:937] successful NUMA node read from SysFS had negative value (-1), but there must be at least one NUMA node, so returning NUMA node zero\n",
      "2022-04-28 08:53:33.672799: I tensorflow/stream_executor/cuda/cuda_gpu_executor.cc:937] successful NUMA node read from SysFS had negative value (-1), but there must be at least one NUMA node, so returning NUMA node zero\n",
      "2022-04-28 08:53:33.673687: I tensorflow/stream_executor/cuda/cuda_gpu_executor.cc:937] successful NUMA node read from SysFS had negative value (-1), but there must be at least one NUMA node, so returning NUMA node zero\n",
      "2022-04-28 08:53:35.428790: I tensorflow/stream_executor/cuda/cuda_gpu_executor.cc:937] successful NUMA node read from SysFS had negative value (-1), but there must be at least one NUMA node, so returning NUMA node zero\n",
      "2022-04-28 08:53:35.429598: I tensorflow/stream_executor/cuda/cuda_gpu_executor.cc:937] successful NUMA node read from SysFS had negative value (-1), but there must be at least one NUMA node, so returning NUMA node zero\n",
      "2022-04-28 08:53:35.430255: I tensorflow/stream_executor/cuda/cuda_gpu_executor.cc:937] successful NUMA node read from SysFS had negative value (-1), but there must be at least one NUMA node, so returning NUMA node zero\n",
      "2022-04-28 08:53:35.431263: I tensorflow/core/common_runtime/gpu/gpu_device.cc:1510] Created device /job:localhost/replica:0/task:0/device:GPU:0 with 15403 MB memory:  -> device: 0, name: Tesla P100-PCIE-16GB, pci bus id: 0000:00:04.0, compute capability: 6.0\n"
     ]
    },
    {
     "name": "stdout",
     "output_type": "stream",
     "text": [
      "Model: \"CNN_model\"\n",
      "_________________________________________________________________\n",
      "Layer (type)                 Output Shape              Param #   \n",
      "=================================================================\n",
      "conv2d (Conv2D)              (None, 26, 26, 32)        320       \n",
      "_________________________________________________________________\n",
      "max_pooling2d (MaxPooling2D) (None, 13, 13, 32)        0         \n",
      "_________________________________________________________________\n",
      "conv2d_1 (Conv2D)            (None, 11, 11, 32)        9248      \n",
      "_________________________________________________________________\n",
      "max_pooling2d_1 (MaxPooling2 (None, 5, 5, 32)          0         \n",
      "_________________________________________________________________\n",
      "flatten (Flatten)            (None, 800)               0         \n",
      "_________________________________________________________________\n",
      "dropout (Dropout)            (None, 800)               0         \n",
      "_________________________________________________________________\n",
      "dense (Dense)                (None, 256)               205056    \n",
      "_________________________________________________________________\n",
      "dense_1 (Dense)              (None, 10)                2570      \n",
      "=================================================================\n",
      "Total params: 217,194\n",
      "Trainable params: 217,194\n",
      "Non-trainable params: 0\n",
      "_________________________________________________________________\n"
     ]
    }
   ],
   "source": [
    "from tensorflow.keras.models import Sequential\n",
    "from tensorflow.keras.layers import Dense, Conv2D, Flatten, Dropout, MaxPooling2D\n",
    "from tensorflow.keras.optimizers import Adam\n",
    "\n",
    "\n",
    "def CNN_model(learning_rate=.001, drop_rate=.5, kernels=[32, 32]):\n",
    "    adam = Adam(learning_rate=learning_rate)\n",
    "\n",
    "    model = Sequential(name=\"CNN_model\")\n",
    "\n",
    "    # the convolutional layers\n",
    "    for number_kernel in kernels:\n",
    "        conv_layer = Conv2D(number_kernel, kernel_size=(\n",
    "            3, 3), activation=\"relu\", kernel_initializer=\"he_normal\",\n",
    "            input_shape=X_train.shape[1:])\n",
    "        \n",
    "        model.add(conv_layer)\n",
    "        model.add(MaxPooling2D(pool_size = (2,2), strides = 2))\n",
    "    \n",
    "    # MLP layers\n",
    "    model.add(Flatten())\n",
    "    model.add(Dropout(drop_rate))\n",
    "    model.add(Dense(256, activation = \"relu\", kernel_initializer = \"he_normal\"))\n",
    "    model.add(Dense(10, activation = \"softmax\"))\n",
    "\n",
    "    model.compile(loss = \"sparse_categorical_crossentropy\", optimizer = adam, metrics = [\"acc\"])\n",
    "\n",
    "    return model\n",
    "\n",
    "model = CNN_model(drop_rate=.5)\n",
    "model.summary()"
   ]
  },
  {
   "cell_type": "markdown",
   "id": "e85bdfdd",
   "metadata": {
    "papermill": {
     "duration": 0.023132,
     "end_time": "2022-04-28T08:53:36.034814",
     "exception": false,
     "start_time": "2022-04-28T08:53:36.011682",
     "status": "completed"
    },
    "tags": []
   },
   "source": [
    "## Train on augmented data"
   ]
  },
  {
   "cell_type": "code",
   "execution_count": 7,
   "id": "f151e7a8",
   "metadata": {
    "execution": {
     "iopub.execute_input": "2022-04-28T08:53:36.082041Z",
     "iopub.status.busy": "2022-04-28T08:53:36.081827Z",
     "iopub.status.idle": "2022-04-28T08:53:36.087038Z",
     "shell.execute_reply": "2022-04-28T08:53:36.086387Z"
    },
    "papermill": {
     "duration": 0.030998,
     "end_time": "2022-04-28T08:53:36.088741",
     "exception": false,
     "start_time": "2022-04-28T08:53:36.057743",
     "status": "completed"
    },
    "tags": []
   },
   "outputs": [
    {
     "data": {
      "text/plain": [
       "(1562, 312)"
      ]
     },
     "execution_count": 7,
     "metadata": {},
     "output_type": "execute_result"
    }
   ],
   "source": [
    "steps_per_epoch = int(len(X_train_val)/32)\n",
    "validation_steps = int(len(X_val)/32)\n",
    "\n",
    "steps_per_epoch, validation_steps"
   ]
  },
  {
   "cell_type": "code",
   "execution_count": 8,
   "id": "76e0d013",
   "metadata": {
    "execution": {
     "iopub.execute_input": "2022-04-28T08:53:36.136431Z",
     "iopub.status.busy": "2022-04-28T08:53:36.135906Z",
     "iopub.status.idle": "2022-04-28T09:02:15.824751Z",
     "shell.execute_reply": "2022-04-28T09:02:15.824051Z"
    },
    "papermill": {
     "duration": 519.714568,
     "end_time": "2022-04-28T09:02:15.826491",
     "exception": false,
     "start_time": "2022-04-28T08:53:36.111923",
     "status": "completed"
    },
    "tags": []
   },
   "outputs": [
    {
     "name": "stderr",
     "output_type": "stream",
     "text": [
      "2022-04-28 08:53:36.214476: I tensorflow/compiler/mlir/mlir_graph_optimization_pass.cc:185] None of the MLIR Optimization Passes are enabled (registered 2)\n"
     ]
    },
    {
     "name": "stdout",
     "output_type": "stream",
     "text": [
      "Epoch 1/100\n"
     ]
    },
    {
     "name": "stderr",
     "output_type": "stream",
     "text": [
      "2022-04-28 08:53:37.411963: I tensorflow/stream_executor/cuda/cuda_dnn.cc:369] Loaded cuDNN version 8005\n"
     ]
    },
    {
     "name": "stdout",
     "output_type": "stream",
     "text": [
      "1562/1562 [==============================] - 24s 11ms/step - loss: 0.6223 - acc: 0.7962 - val_loss: 0.1197 - val_acc: 0.9657\n",
      "Epoch 2/100\n",
      "1562/1562 [==============================] - 17s 11ms/step - loss: 0.2518 - acc: 0.9196 - val_loss: 0.0911 - val_acc: 0.9727\n",
      "Epoch 3/100\n",
      "1562/1562 [==============================] - 18s 11ms/step - loss: 0.1974 - acc: 0.9377 - val_loss: 0.0703 - val_acc: 0.9798\n",
      "Epoch 4/100\n",
      "1562/1562 [==============================] - 17s 11ms/step - loss: 0.1730 - acc: 0.9457 - val_loss: 0.0765 - val_acc: 0.9763\n",
      "Epoch 5/100\n",
      "1562/1562 [==============================] - 18s 11ms/step - loss: 0.1585 - acc: 0.9505 - val_loss: 0.0511 - val_acc: 0.9834\n",
      "Epoch 6/100\n",
      "1562/1562 [==============================] - 17s 11ms/step - loss: 0.1448 - acc: 0.9552 - val_loss: 0.0557 - val_acc: 0.9831\n",
      "Epoch 7/100\n",
      "1562/1562 [==============================] - 17s 11ms/step - loss: 0.1398 - acc: 0.9562 - val_loss: 0.0504 - val_acc: 0.9843\n",
      "Epoch 8/100\n",
      "1562/1562 [==============================] - 18s 12ms/step - loss: 0.1311 - acc: 0.9592 - val_loss: 0.0429 - val_acc: 0.9875\n",
      "Epoch 9/100\n",
      "1562/1562 [==============================] - 17s 11ms/step - loss: 0.1239 - acc: 0.9613 - val_loss: 0.0465 - val_acc: 0.9867\n",
      "Epoch 10/100\n",
      "1562/1562 [==============================] - 18s 11ms/step - loss: 0.1198 - acc: 0.9625 - val_loss: 0.0460 - val_acc: 0.9863\n",
      "Epoch 11/100\n",
      "1562/1562 [==============================] - 17s 11ms/step - loss: 0.1159 - acc: 0.9637 - val_loss: 0.0452 - val_acc: 0.9874\n",
      "Epoch 12/100\n",
      "1562/1562 [==============================] - 19s 12ms/step - loss: 0.1141 - acc: 0.9647 - val_loss: 0.0374 - val_acc: 0.9881\n",
      "Epoch 13/100\n",
      "1562/1562 [==============================] - 18s 11ms/step - loss: 0.1093 - acc: 0.9660 - val_loss: 0.0418 - val_acc: 0.9875\n",
      "Epoch 14/100\n",
      "1562/1562 [==============================] - 18s 11ms/step - loss: 0.1090 - acc: 0.9670 - val_loss: 0.0404 - val_acc: 0.9888\n",
      "Epoch 15/100\n",
      "1562/1562 [==============================] - 19s 12ms/step - loss: 0.1078 - acc: 0.9669 - val_loss: 0.0392 - val_acc: 0.9879\n",
      "Epoch 16/100\n",
      "1562/1562 [==============================] - 17s 11ms/step - loss: 0.1049 - acc: 0.9674 - val_loss: 0.0362 - val_acc: 0.9890\n",
      "Epoch 17/100\n",
      "1562/1562 [==============================] - 20s 13ms/step - loss: 0.1023 - acc: 0.9683 - val_loss: 0.0431 - val_acc: 0.9867\n",
      "Epoch 18/100\n",
      "1562/1562 [==============================] - 18s 12ms/step - loss: 0.0999 - acc: 0.9681 - val_loss: 0.0333 - val_acc: 0.9894\n",
      "Epoch 19/100\n",
      "1562/1562 [==============================] - 20s 13ms/step - loss: 0.0967 - acc: 0.9703 - val_loss: 0.0454 - val_acc: 0.9867\n",
      "Epoch 20/100\n",
      "1562/1562 [==============================] - 20s 13ms/step - loss: 0.1007 - acc: 0.9683 - val_loss: 0.0343 - val_acc: 0.9884\n",
      "Epoch 21/100\n",
      "1562/1562 [==============================] - 18s 12ms/step - loss: 0.0975 - acc: 0.9700 - val_loss: 0.0343 - val_acc: 0.9899\n",
      "Epoch 22/100\n",
      "1562/1562 [==============================] - 20s 13ms/step - loss: 0.0949 - acc: 0.9703 - val_loss: 0.0314 - val_acc: 0.9912\n",
      "Epoch 23/100\n",
      "1562/1562 [==============================] - 17s 11ms/step - loss: 0.0953 - acc: 0.9707 - val_loss: 0.0437 - val_acc: 0.9866\n",
      "Epoch 24/100\n",
      "1562/1562 [==============================] - 20s 13ms/step - loss: 0.0928 - acc: 0.9707 - val_loss: 0.0380 - val_acc: 0.9896\n",
      "Epoch 25/100\n",
      "1562/1562 [==============================] - 17s 11ms/step - loss: 0.0951 - acc: 0.9715 - val_loss: 0.0331 - val_acc: 0.9903\n",
      "Epoch 26/100\n",
      "1562/1562 [==============================] - 19s 12ms/step - loss: 0.0909 - acc: 0.9717 - val_loss: 0.0349 - val_acc: 0.9895\n",
      "Epoch 27/100\n",
      "1562/1562 [==============================] - 17s 11ms/step - loss: 0.0867 - acc: 0.9732 - val_loss: 0.0369 - val_acc: 0.9891\n"
     ]
    },
    {
     "data": {
      "text/plain": [
       "<keras.callbacks.History at 0x7f0d5a0dde10>"
      ]
     },
     "execution_count": 8,
     "metadata": {},
     "output_type": "execute_result"
    }
   ],
   "source": [
    "from tensorflow.keras.callbacks import EarlyStopping\n",
    "\n",
    "early_stopper = EarlyStopping(monitor = \"val_acc\", mode = \"max\", patience = 5, restore_best_weights = True)\n",
    "\n",
    "model.fit(\n",
    "    train_val_generator,\n",
    "    steps_per_epoch = steps_per_epoch,\n",
    "    epochs = 100,\n",
    "    callbacks = [early_stopper],\n",
    "    validation_data = val_generator,\n",
    "    validation_steps = validation_steps\n",
    ")"
   ]
  },
  {
   "cell_type": "code",
   "execution_count": 9,
   "id": "8fba7f8e",
   "metadata": {
    "execution": {
     "iopub.execute_input": "2022-04-28T09:02:21.016908Z",
     "iopub.status.busy": "2022-04-28T09:02:21.016659Z",
     "iopub.status.idle": "2022-04-28T09:02:21.023115Z",
     "shell.execute_reply": "2022-04-28T09:02:21.022454Z"
    },
    "papermill": {
     "duration": 2.584938,
     "end_time": "2022-04-28T09:02:21.024821",
     "exception": false,
     "start_time": "2022-04-28T09:02:18.439883",
     "status": "completed"
    },
    "tags": []
   },
   "outputs": [],
   "source": [
    "metrics = pd.DataFrame(model.history.history)"
   ]
  },
  {
   "cell_type": "code",
   "execution_count": 10,
   "id": "7bc335f9",
   "metadata": {
    "execution": {
     "iopub.execute_input": "2022-04-28T09:02:26.477014Z",
     "iopub.status.busy": "2022-04-28T09:02:26.476598Z",
     "iopub.status.idle": "2022-04-28T09:02:39.646923Z",
     "shell.execute_reply": "2022-04-28T09:02:39.646264Z"
    },
    "papermill": {
     "duration": 16.047563,
     "end_time": "2022-04-28T09:02:39.649227",
     "exception": false,
     "start_time": "2022-04-28T09:02:23.601664",
     "status": "completed"
    },
    "tags": []
   },
   "outputs": [
    {
     "data": {
      "image/png": "[encoded data removed]",
      "text/plain": [
       "<Figure size 864x288 with 2 Axes>"
      ]
     },
     "metadata": {
      "needs_background": "light"
     },
     "output_type": "display_data"
    }
   ],
   "source": [
    "def plot_metrics(metrics):\n",
    "    _, ax = plt.subplots(1,2, figsize = (12,4))\n",
    "    metrics[[\"loss\", \"val_loss\"]].plot(ax = ax[0], grid = True)\n",
    "    metrics[[\"acc\", \"val_acc\"]].plot(ax = ax[1], grid = True)\n",
    "\n",
    "plot_metrics(metrics)"
   ]
  },
  {
   "cell_type": "markdown",
   "id": "d2570621",
   "metadata": {
    "papermill": {
     "duration": 2.62347,
     "end_time": "2022-04-28T09:02:44.874534",
     "exception": false,
     "start_time": "2022-04-28T09:02:42.251064",
     "status": "completed"
    },
    "tags": []
   },
   "source": [
    "## Train on all training data"
   ]
  },
  {
   "cell_type": "code",
   "execution_count": 11,
   "id": "367f4bb6",
   "metadata": {
    "execution": {
     "iopub.execute_input": "2022-04-28T09:02:50.338905Z",
     "iopub.status.busy": "2022-04-28T09:02:50.338400Z",
     "iopub.status.idle": "2022-04-28T09:02:50.342617Z",
     "shell.execute_reply": "2022-04-28T09:02:50.341783Z"
    },
    "papermill": {
     "duration": 2.877245,
     "end_time": "2022-04-28T09:02:50.344776",
     "exception": false,
     "start_time": "2022-04-28T09:02:47.467531",
     "status": "completed"
    },
    "tags": []
   },
   "outputs": [],
   "source": [
    "train_generator = train_image_generator.flow(\n",
    "    X_train, y_train, batch_size=32)"
   ]
  },
  {
   "cell_type": "code",
   "execution_count": 12,
   "id": "faf6128a",
   "metadata": {
    "execution": {
     "iopub.execute_input": "2022-04-28T09:02:55.611638Z",
     "iopub.status.busy": "2022-04-28T09:02:55.611295Z",
     "iopub.status.idle": "2022-04-28T09:07:44.266255Z",
     "shell.execute_reply": "2022-04-28T09:07:44.265605Z"
    },
    "papermill": {
     "duration": 291.331009,
     "end_time": "2022-04-28T09:07:44.267963",
     "exception": false,
     "start_time": "2022-04-28T09:02:52.936954",
     "status": "completed"
    },
    "tags": []
   },
   "outputs": [
    {
     "name": "stdout",
     "output_type": "stream",
     "text": [
      "Epoch 1/15\n",
      "1562/1562 [==============================] - 18s 11ms/step - loss: 0.6252 - acc: 0.7954\n",
      "Epoch 2/15\n",
      "1562/1562 [==============================] - 19s 12ms/step - loss: 0.2555 - acc: 0.9199\n",
      "Epoch 3/15\n",
      "1562/1562 [==============================] - 17s 11ms/step - loss: 0.2021 - acc: 0.9350\n",
      "Epoch 4/15\n",
      "1562/1562 [==============================] - 19s 12ms/step - loss: 0.1798 - acc: 0.9431\n",
      "Epoch 5/15\n",
      "1562/1562 [==============================] - 16s 10ms/step - loss: 0.1582 - acc: 0.9509\n",
      "Epoch 6/15\n",
      "1562/1562 [==============================] - 19s 12ms/step - loss: 0.1525 - acc: 0.9526\n",
      "Epoch 7/15\n",
      "1562/1562 [==============================] - 16s 10ms/step - loss: 0.1411 - acc: 0.9559\n",
      "Epoch 8/15\n",
      "1562/1562 [==============================] - 19s 12ms/step - loss: 0.1338 - acc: 0.9577\n",
      "Epoch 9/15\n",
      "1562/1562 [==============================] - 16s 10ms/step - loss: 0.1252 - acc: 0.9609\n",
      "Epoch 10/15\n",
      "1562/1562 [==============================] - 20s 13ms/step - loss: 0.1245 - acc: 0.9611\n",
      "Epoch 11/15\n",
      "1562/1562 [==============================] - 17s 11ms/step - loss: 0.1216 - acc: 0.9616\n",
      "Epoch 12/15\n",
      "1562/1562 [==============================] - 16s 11ms/step - loss: 0.1116 - acc: 0.9653\n",
      "Epoch 13/15\n",
      "1562/1562 [==============================] - 20s 13ms/step - loss: 0.1124 - acc: 0.9647\n",
      "Epoch 14/15\n",
      "1562/1562 [==============================] - 16s 10ms/step - loss: 0.1112 - acc: 0.9657\n",
      "Epoch 15/15\n",
      "1562/1562 [==============================] - 16s 11ms/step - loss: 0.1094 - acc: 0.9661\n"
     ]
    },
    {
     "data": {
      "text/plain": [
       "<keras.callbacks.History at 0x7f0d5728b0d0>"
      ]
     },
     "execution_count": 12,
     "metadata": {},
     "output_type": "execute_result"
    }
   ],
   "source": [
    "model = CNN_model()\n",
    "model.fit(train_generator, steps_per_epoch = steps_per_epoch, epochs = 15)"
   ]
  },
  {
   "cell_type": "markdown",
   "id": "76606686",
   "metadata": {
    "papermill": {
     "duration": 4.054771,
     "end_time": "2022-04-28T09:07:52.884202",
     "exception": false,
     "start_time": "2022-04-28T09:07:48.829431",
     "status": "completed"
    },
    "tags": []
   },
   "source": [
    "## Evaluation"
   ]
  },
  {
   "cell_type": "code",
   "execution_count": 13,
   "id": "e90faae9",
   "metadata": {
    "execution": {
     "iopub.execute_input": "2022-04-28T09:08:01.383169Z",
     "iopub.status.busy": "2022-04-28T09:08:01.382857Z",
     "iopub.status.idle": "2022-04-28T09:08:02.725400Z",
     "shell.execute_reply": "2022-04-28T09:08:02.724729Z"
    },
    "papermill": {
     "duration": 5.432671,
     "end_time": "2022-04-28T09:08:02.727741",
     "exception": false,
     "start_time": "2022-04-28T09:07:57.295070",
     "status": "completed"
    },
    "tags": []
   },
   "outputs": [
    {
     "name": "stdout",
     "output_type": "stream",
     "text": [
      "              precision    recall  f1-score   support\n",
      "\n",
      "           0       0.99      1.00      0.99       980\n",
      "           1       1.00      0.99      0.99      1135\n",
      "           2       0.99      0.99      0.99      1032\n",
      "           3       0.99      0.99      0.99      1010\n",
      "           4       0.98      1.00      0.99       982\n",
      "           5       0.99      0.99      0.99       892\n",
      "           6       0.99      0.99      0.99       958\n",
      "           7       0.99      0.99      0.99      1028\n",
      "           8       0.99      1.00      0.99       974\n",
      "           9       1.00      0.96      0.98      1009\n",
      "\n",
      "    accuracy                           0.99     10000\n",
      "   macro avg       0.99      0.99      0.99     10000\n",
      "weighted avg       0.99      0.99      0.99     10000\n",
      "\n"
     ]
    },
    {
     "data": {
      "text/plain": [
       "<sklearn.metrics._plot.confusion_matrix.ConfusionMatrixDisplay at 0x7f0d5a438dd0>"
      ]
     },
     "execution_count": 13,
     "metadata": {},
     "output_type": "execute_result"
    },
    {
     "data": {
      "image/png": "[encoded data removed]",
      "text/plain": [
       "<Figure size 432x288 with 2 Axes>"
      ]
     },
     "metadata": {
      "needs_background": "light"
     },
     "output_type": "display_data"
    }
   ],
   "source": [
    "from sklearn.metrics import classification_report, confusion_matrix, ConfusionMatrixDisplay\n",
    "\n",
    "y_pred = model.predict(X_test)\n",
    "y_pred = np.argmax(y_pred, axis = 1)\n",
    "\n",
    "print(classification_report(y_test, y_pred))\n",
    "cm = confusion_matrix(y_test, y_pred)\n",
    "ConfusionMatrixDisplay(cm).plot()"
   ]
  },
  {
   "cell_type": "code",
   "execution_count": null,
   "id": "0a6acdbd",
   "metadata": {
    "papermill": {
     "duration": 4.060148,
     "end_time": "2022-04-28T09:08:11.530002",
     "exception": false,
     "start_time": "2022-04-28T09:08:07.469854",
     "status": "completed"
    },
    "tags": []
   },
   "outputs": [],
   "source": []
  },
  {
   "cell_type": "code",
   "execution_count": null,
   "id": "fdb0c86a",
   "metadata": {
    "papermill": {
     "duration": 4.337371,
     "end_time": "2022-04-28T09:08:19.973992",
     "exception": false,
     "start_time": "2022-04-28T09:08:15.636621",
     "status": "completed"
    },
    "tags": []
   },
   "outputs": [],
   "source": []
  },
  {
   "cell_type": "code",
   "execution_count": null,
   "id": "08f0da57",
   "metadata": {
    "papermill": {
     "duration": 4.151129,
     "end_time": "2022-04-28T09:08:28.153978",
     "exception": false,
     "start_time": "2022-04-28T09:08:24.002849",
     "status": "completed"
    },
    "tags": []
   },
   "outputs": [],
   "source": []
  },
  {
   "cell_type": "code",
   "execution_count": null,
   "id": "e6529943",
   "metadata": {
    "papermill": {
     "duration": 4.094859,
     "end_time": "2022-04-28T09:08:36.555558",
     "exception": false,
     "start_time": "2022-04-28T09:08:32.460699",
     "status": "completed"
    },
    "tags": []
   },
   "outputs": [],
   "source": []
  }
 ],
 "metadata": {
  "kernelspec": {
   "display_name": "Python 3",
   "language": "python",
   "name": "python3"
  },
  "language_info": {
   "codemirror_mode": {
    "name": "ipython",
    "version": 3
   },
   "file_extension": ".py",
   "mimetype": "text/x-python",
   "name": "python",
   "nbconvert_exporter": "python",
   "pygments_lexer": "ipython3",
   "version": "3.7.12"
  },
  "papermill": {
   "default_parameters": {},
   "duration": 927.273624,
   "end_time": "2022-04-28T09:08:44.668679",
   "environment_variables": {},
   "exception": null,
   "input_path": "__notebook__.ipynb",
   "output_path": "__notebook__.ipynb",
   "parameters": {},
   "start_time": "2022-04-28T08:53:17.395055",
   "version": "2.3.4"
  }
 },
 "nbformat": 4,
 "nbformat_minor": 5
}
