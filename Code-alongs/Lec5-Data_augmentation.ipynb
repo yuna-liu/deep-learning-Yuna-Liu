{
 "cells": [
  {
   "cell_type": "markdown",
   "metadata": {},
   "source": [
    "# Data augmentation\n",
    "- artificiellt skapa fler bilder\n",
    "- slumpmässigt:\n",
    "  - roterar till en viss grad (radianer)\n",
    "  - translatera slumpmässigt\n",
    "  - flippa horisontellt, vertikalt (spegla)\n",
    "  - shear\n",
    "  - ..."
   ]
  },
  {
   "cell_type": "code",
   "execution_count": 8,
   "metadata": {},
   "outputs": [
    {
     "data": {
      "image/png": "[encoded data removed]",
      "text/plain": [
       "<Figure size 720x288 with 10 Axes>"
      ]
     },
     "metadata": {
      "needs_background": "light"
     },
     "output_type": "display_data"
    }
   ],
   "source": [
    "import seaborn as sns\n",
    "import numpy as np\n",
    "import matplotlib.pyplot as plt\n",
    "import pandas as pd\n",
    "from tensorflow.keras.datasets.mnist import load_data\n",
    "\n",
    "(X_train, y_train), (X_test, y_test) = load_data()\n",
    "y_train, y_test = y_train.ravel(), y_test.ravel()\n",
    "\n",
    "def plot_samples(data):\n",
    "    fig, axes = plt.subplots(2, 5, figsize=(10, 4))\n",
    "    for i, ax in enumerate(axes.flatten()):\n",
    "        ax.imshow(data[i], cmap = \"gray\")\n",
    "        ax.axis(\"off\")\n",
    "\n",
    "plot_samples(X_train)"
   ]
  },
  {
   "cell_type": "code",
   "execution_count": 9,
   "metadata": {},
   "outputs": [
    {
     "data": {
      "text/plain": [
       "(0.0, 1.0)"
      ]
     },
     "execution_count": 9,
     "metadata": {},
     "output_type": "execute_result"
    }
   ],
   "source": [
    "X_train = X_train.astype(\"float32\")/255\n",
    "X_test = X_test.astype(\"float32\")/255\n",
    "X_train.min(), X_train.max()"
   ]
  },
  {
   "cell_type": "markdown",
   "metadata": {},
   "source": [
    "## Train|val|test split"
   ]
  },
  {
   "cell_type": "code",
   "execution_count": 10,
   "metadata": {},
   "outputs": [
    {
     "data": {
      "text/plain": [
       "(50000, 28, 28, 1)"
      ]
     },
     "execution_count": 10,
     "metadata": {},
     "output_type": "execute_result"
    }
   ],
   "source": [
    "from sklearn.model_selection import train_test_split\n",
    "\n",
    "X_train_val, X_val, y_train_val, y_val = train_test_split(\n",
    "    X_train, y_train, test_size=1/6, random_state=42)\n",
    "\n",
    "X_train_val = X_train_val[:,:,:,None]\n",
    "X_train = X_train[:,:,:,None]\n",
    "X_val = X_val[:,:,:,None]\n",
    "X_test = X_test[:,:,:,None]\n",
    "\n",
    "X_train_val.shape"
   ]
  },
  {
   "cell_type": "markdown",
   "metadata": {},
   "source": [
    "## Data augmentation"
   ]
  },
  {
   "cell_type": "code",
   "execution_count": 22,
   "metadata": {},
   "outputs": [
    {
     "data": {
      "text/plain": [
       "(<keras.preprocessing.image.NumpyArrayIterator at 0x26f67ebb6d0>,\n",
       " <keras.preprocessing.image.NumpyArrayIterator at 0x26f67ebbcd0>)"
      ]
     },
     "execution_count": 22,
     "metadata": {},
     "output_type": "execute_result"
    }
   ],
   "source": [
    "from tensorflow.keras.preprocessing.image import ImageDataGenerator\n",
    "\n",
    "train_image_generator = ImageDataGenerator(\n",
    "    rotation_range=10,\n",
    "    shear_range=.2,\n",
    "    zoom_range=.1,\n",
    "    horizontal_flip=False,\n",
    "    height_shift_range=.2,\n",
    "    width_shift_range=.2\n",
    ")\n",
    "\n",
    "# don't augment validation and test data\n",
    "test_image_generator = ImageDataGenerator()\n",
    "\n",
    "train_val_generator = train_image_generator.flow(\n",
    "    X_train_val, y_train_val, batch_size=32)\n",
    "\n",
    "val_generator = test_image_generator.flow(X_val, y_val, batch_size=32)\n",
    "\n",
    "train_val_generator, val_generator"
   ]
  },
  {
   "cell_type": "code",
   "execution_count": 23,
   "metadata": {},
   "outputs": [
    {
     "name": "stdout",
     "output_type": "stream",
     "text": [
      "2\n",
      "(32, 28, 28, 1)\n"
     ]
    },
    {
     "data": {
      "text/plain": [
       "array([6, 4, 4, 6, 4, 8, 3, 6, 5, 1, 5, 4, 9, 0, 0, 1, 9, 5, 8, 6, 1, 2,\n",
       "       0, 9, 6, 9, 6, 2, 0, 5, 5, 8], dtype=uint8)"
      ]
     },
     "execution_count": 23,
     "metadata": {},
     "output_type": "execute_result"
    },
    {
     "data": {
      "image/png": "[encoded data removed]",
      "text/plain": [
       "<Figure size 720x288 with 10 Axes>"
      ]
     },
     "metadata": {
      "needs_background": "light"
     },
     "output_type": "display_data"
    }
   ],
   "source": [
    "print(len(train_val_generator.next()))\n",
    "\n",
    "sample_batch = train_val_generator.next()\n",
    "print(sample_batch[0].shape) # 32 samples in a batch\n",
    "\n",
    "plot_samples(sample_batch[0])\n",
    "sample_batch[1]"
   ]
  },
  {
   "cell_type": "markdown",
   "metadata": {},
   "source": [
    "## CNN model"
   ]
  },
  {
   "cell_type": "code",
   "execution_count": 24,
   "metadata": {},
   "outputs": [
    {
     "name": "stdout",
     "output_type": "stream",
     "text": [
      "Model: \"CNN_model\"\n",
      "_________________________________________________________________\n",
      " Layer (type)                Output Shape              Param #   \n",
      "=================================================================\n",
      " conv2d (Conv2D)             (None, 26, 26, 32)        320       \n",
      "                                                                 \n",
      " max_pooling2d (MaxPooling2D  (None, 13, 13, 32)       0         \n",
      " )                                                               \n",
      "                                                                 \n",
      " conv2d_1 (Conv2D)           (None, 11, 11, 32)        9248      \n",
      "                                                                 \n",
      " max_pooling2d_1 (MaxPooling  (None, 5, 5, 32)         0         \n",
      " 2D)                                                             \n",
      "                                                                 \n",
      " flatten (Flatten)           (None, 800)               0         \n",
      "                                                                 \n",
      " dropout (Dropout)           (None, 800)               0         \n",
      "                                                                 \n",
      " dense (Dense)               (None, 256)               205056    \n",
      "                                                                 \n",
      " dense_1 (Dense)             (None, 10)                2570      \n",
      "                                                                 \n",
      "=================================================================\n",
      "Total params: 217,194\n",
      "Trainable params: 217,194\n",
      "Non-trainable params: 0\n",
      "_________________________________________________________________\n"
     ]
    }
   ],
   "source": [
    "from tensorflow.keras.models import Sequential\n",
    "from tensorflow.keras.layers import Dense, Conv2D, Flatten, Dropout, MaxPooling2D\n",
    "from tensorflow.keras.optimizers import Adam\n",
    "\n",
    "\n",
    "def CNN_model(learning_rate=.001, drop_rate=.5, kernels=[32, 32]):\n",
    "    adam = Adam(learning_rate=learning_rate)\n",
    "\n",
    "    model = Sequential(name=\"CNN_model\")\n",
    "\n",
    "    # the convolutional layers\n",
    "    for number_kernel in kernels:\n",
    "        conv_layer = Conv2D(number_kernel, kernel_size=(\n",
    "            3, 3), activation=\"relu\", kernel_initializer=\"he_normal\",\n",
    "            input_shape=X_train.shape[1:])\n",
    "        \n",
    "        model.add(conv_layer)\n",
    "        model.add(MaxPooling2D(pool_size = (2,2), strides = 2))\n",
    "    \n",
    "    # MLP layers\n",
    "    model.add(Flatten())\n",
    "    model.add(Dropout(drop_rate))\n",
    "    model.add(Dense(256, activation = \"relu\", kernel_initializer = \"he_normal\"))\n",
    "    model.add(Dense(10, activation = \"softmax\"))\n",
    "\n",
    "    model.compile(loss = \"sparse_categorical_crossentropy\", optimizer = adam, metrics = [\"acc\"])\n",
    "\n",
    "    return model\n",
    "\n",
    "model = CNN_model(drop_rate=.5)\n",
    "model.summary()"
   ]
  },
  {
   "cell_type": "code",
   "execution_count": null,
   "metadata": {},
   "outputs": [],
   "source": []
  }
 ],
 "metadata": {
  "interpreter": {
   "hash": "99a9b44b0d70ae6beefe502a7492ddba655bcbf3d39a048a124186deea614f39"
  },
  "kernelspec": {
   "display_name": "Python 3.9.6 ('Deep-learning-AI21-RVjg27w7')",
   "language": "python",
   "name": "python3"
  },
  "language_info": {
   "codemirror_mode": {
    "name": "ipython",
    "version": 3
   },
   "file_extension": ".py",
   "mimetype": "text/x-python",
   "name": "python",
   "nbconvert_exporter": "python",
   "pygments_lexer": "ipython3",
   "version": "3.9.6"
  },
  "orig_nbformat": 4
 },
 "nbformat": 4,
 "nbformat_minor": 2
}
