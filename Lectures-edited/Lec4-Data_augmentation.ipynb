{
 "cells": [
  {
   "cell_type": "markdown",
   "metadata": {},
   "source": [
    "<a href=\"https://colab.research.google.com/github/kokchun/Deep-learning-AI21/blob/main/Lectures/Lec4-Data_augmentation.ipynb\" target=\"_parent\"><img align=\"left\" src=\"https://colab.research.google.com/assets/colab-badge.svg\" alt=\"Open In Colab\"/></a> &nbsp; for interacting with the code\n"
   ]
  },
  {
   "cell_type": "markdown",
   "metadata": {},
   "source": [
    "---\n",
    "# Lecture notes - Data augmentation\n",
    "---\n",
    "\n",
    "This is the lecture note for **data augmentation**. \n",
    "\n",
    "<p class = \"alert alert-info\" role=\"alert\"><b>Note</b> that this lecture note gives a brief introduction to data augmentation. I encourage you to read further about data augmentation. </p>\n",
    "\n",
    "Read more:\n",
    "\n",
    "- [ImageDataGenerator - TensorFlow](https://www.tensorflow.org/api_docs/python/tf/keras/preprocessing/image/ImageDataGenerator?version=nightly)\n",
    "- [Data augmentation - wikipedia](https://en.wikipedia.org/wiki/Data_augmentation)\n",
    "\n",
    "---"
   ]
  },
  {
   "cell_type": "markdown",
   "metadata": {},
   "source": [
    "## Data augmentation\n",
    "- artificiellt skapa fler bilder\n",
    "- slumpmässigt:\n",
    "-- roterar till en viss grad (radianer)\n",
    "-- translatera slumpmässigt\n",
    "-- flippa horsisontellt, vertikalt(spegla)\n",
    "-- shear\n",
    "-- ..."
   ]
  },
  {
   "cell_type": "markdown",
   "metadata": {},
   "source": [
    "train data: X_train_val\n",
    "val data: X_val\n",
    "test data: X_test"
   ]
  },
  {
   "cell_type": "code",
   "execution_count": 1,
   "metadata": {},
   "outputs": [
    {
     "data": {
      "image/png": "[encoded data removed]",
      "text/plain": [
       "<Figure size 720x288 with 10 Axes>"
      ]
     },
     "metadata": {
      "needs_background": "light"
     },
     "output_type": "display_data"
    }
   ],
   "source": [
    "import seaborn as sns\n",
    "import numpy as np\n",
    "import matplotlib.pyplot as plt\n",
    "import pandas as pd\n",
    "from tensorflow.keras.datasets.mnist import load_data\n",
    "import os\n",
    "\n",
    "(X_train, y_train), (X_test, y_test) = load_data()\n",
    "y_train, y_test = y_train.ravel(), y_test.ravel()\n",
    "# The numpy.ravel() functions returns contiguous flattened array\n",
    "# (1D array with all the input-array elements and with the same type as it). \n",
    "\n",
    "def plot_samples(data):\n",
    "    fig, axes = plt.subplots(2, 5, figsize=(10, 4))\n",
    "    for i, ax in enumerate(axes.flatten()):\n",
    "        ax.imshow(data[i], cmap = \"gray\")\n",
    "        ax.axis(\"off\")\n",
    "    fig.tight_layout()\n",
    "\n",
    "plot_samples(X_train)\n"
   ]
  },
  {
   "cell_type": "code",
   "execution_count": 2,
   "metadata": {},
   "outputs": [
    {
     "name": "stdout",
     "output_type": "stream",
     "text": [
      "X_train.min()=0.0, X_train.max()=1.0\n"
     ]
    }
   ],
   "source": [
    "X_train = X_train.astype(\"float32\") / 255\n",
    "X_test = X_test.astype(\"float32\") / 255\n",
    "print(f\"{X_train.min()=}, {X_train.max()=}\")"
   ]
  },
  {
   "cell_type": "markdown",
   "metadata": {},
   "source": [
    "---\n",
    "## Train|val|test split"
   ]
  },
  {
   "cell_type": "code",
   "execution_count": 3,
   "metadata": {},
   "outputs": [
    {
     "data": {
      "text/plain": [
       "(50000, 28, 28)"
      ]
     },
     "execution_count": 3,
     "metadata": {},
     "output_type": "execute_result"
    }
   ],
   "source": [
    "from sklearn.model_selection import train_test_split\n",
    "\n",
    "X_train_val, X_val, y_train_val, y_val = train_test_split(\n",
    "    X_train, y_train, test_size=1 / 6, random_state=42\n",
    ")\n",
    "\n",
    "X_train_val.shape"
   ]
  },
  {
   "cell_type": "code",
   "execution_count": 4,
   "metadata": {},
   "outputs": [
    {
     "data": {
      "text/plain": [
       "(50000, 28, 28, 1)"
      ]
     },
     "execution_count": 4,
     "metadata": {},
     "output_type": "execute_result"
    }
   ],
   "source": [
    "# ImageDataGenerator requires rank 4 \n",
    "X_train_val = X_train_val[:,:,:,None]\n",
    "X_val = X_val[:,:,:,None]\n",
    "X_train = X_train[:,:,:,None]\n",
    "X_test = X_test[:,:,:,None]\n",
    "\n",
    "X_train_val.shape"
   ]
  },
  {
   "cell_type": "markdown",
   "metadata": {},
   "source": [
    "---\n",
    "## Data augmentation\n",
    "- ImageDataGenerator to augment images"
   ]
  },
  {
   "cell_type": "code",
   "execution_count": 5,
   "metadata": {},
   "outputs": [
    {
     "data": {
      "text/plain": [
       "(<keras.preprocessing.image.NumpyArrayIterator at 0x1c4f680e1c0>,\n",
       " <keras.preprocessing.image.NumpyArrayIterator at 0x1c4803360d0>)"
      ]
     },
     "execution_count": 5,
     "metadata": {},
     "output_type": "execute_result"
    }
   ],
   "source": [
    "from tensorflow.keras.preprocessing.image import ImageDataGenerator\n",
    "\n",
    "plt.style.use(\"seaborn-white\")\n",
    "\n",
    "train_image_generator = ImageDataGenerator(\n",
    "    rotation_range=10,\n",
    "    shear_range=0.2,\n",
    "    zoom_range=0.2,\n",
    "    horizontal_flip=True,\n",
    "    height_shift_range=0.2,\n",
    "    width_shift_range=0.2,\n",
    ")\n",
    "\n",
    "# don't augment test data and validation data as we want to test on original data\n",
    "# we just instantiate an ImageDataGenerator without augmentation\n",
    "test_image_generator = ImageDataGenerator()\n",
    "\n",
    "# batch size 32 for mini-batch gradient descent \n",
    "train_val_generator = train_image_generator.flow(\n",
    "    X_train_val, y_train_val, batch_size=32\n",
    ")\n",
    "# mini-batch gradient descent to get uncorrelated \n",
    "# batch size 32 for mini-batch gradient descent \n",
    "\n",
    "train_generator = train_image_generator.flow(\n",
    "    X_train, y_train, batch_size=32\n",
    ")\n",
    "\n",
    "val_generator = test_image_generator.flow(X_val, y_val, batch_size=32)\n",
    "\n",
    "# NumpyArrayIterator\n",
    "train_val_generator, val_generator"
   ]
  },
  {
   "cell_type": "code",
   "execution_count": 16,
   "metadata": {},
   "outputs": [
    {
     "data": {
      "text/plain": [
       "((50000, 28, 28, 1), (50000,))"
      ]
     },
     "execution_count": 16,
     "metadata": {},
     "output_type": "execute_result"
    }
   ],
   "source": [
    "X_train_val.shape, y_train_val.shape"
   ]
  },
  {
   "cell_type": "code",
   "execution_count": 6,
   "metadata": {},
   "outputs": [
    {
     "name": "stdout",
     "output_type": "stream",
     "text": [
      "2\n",
      "(32, 28, 28, 1)\n"
     ]
    },
    {
     "data": {
      "text/plain": [
       "(array([[[[0.        ],\n",
       "          [0.        ],\n",
       "          [0.        ],\n",
       "          ...,\n",
       "          [0.        ],\n",
       "          [0.        ],\n",
       "          [0.        ]],\n",
       " \n",
       "         [[0.        ],\n",
       "          [0.        ],\n",
       "          [0.        ],\n",
       "          ...,\n",
       "          [0.        ],\n",
       "          [0.        ],\n",
       "          [0.        ]],\n",
       " \n",
       "         [[0.        ],\n",
       "          [0.        ],\n",
       "          [0.        ],\n",
       "          ...,\n",
       "          [0.        ],\n",
       "          [0.        ],\n",
       "          [0.        ]],\n",
       " \n",
       "         ...,\n",
       " \n",
       "         [[0.        ],\n",
       "          [0.        ],\n",
       "          [0.        ],\n",
       "          ...,\n",
       "          [0.        ],\n",
       "          [0.        ],\n",
       "          [0.        ]],\n",
       " \n",
       "         [[0.        ],\n",
       "          [0.        ],\n",
       "          [0.        ],\n",
       "          ...,\n",
       "          [0.        ],\n",
       "          [0.        ],\n",
       "          [0.        ]],\n",
       " \n",
       "         [[0.        ],\n",
       "          [0.        ],\n",
       "          [0.        ],\n",
       "          ...,\n",
       "          [0.        ],\n",
       "          [0.        ],\n",
       "          [0.        ]]],\n",
       " \n",
       " \n",
       "        [[[0.        ],\n",
       "          [0.        ],\n",
       "          [0.        ],\n",
       "          ...,\n",
       "          [0.        ],\n",
       "          [0.        ],\n",
       "          [0.        ]],\n",
       " \n",
       "         [[0.        ],\n",
       "          [0.        ],\n",
       "          [0.        ],\n",
       "          ...,\n",
       "          [0.        ],\n",
       "          [0.        ],\n",
       "          [0.        ]],\n",
       " \n",
       "         [[0.        ],\n",
       "          [0.        ],\n",
       "          [0.        ],\n",
       "          ...,\n",
       "          [0.        ],\n",
       "          [0.        ],\n",
       "          [0.        ]],\n",
       " \n",
       "         ...,\n",
       " \n",
       "         [[0.10390536],\n",
       "          [0.7339827 ],\n",
       "          [0.9857017 ],\n",
       "          ...,\n",
       "          [0.        ],\n",
       "          [0.        ],\n",
       "          [0.        ]],\n",
       " \n",
       "         [[0.0845519 ],\n",
       "          [0.4370193 ],\n",
       "          [0.99202675],\n",
       "          ...,\n",
       "          [0.        ],\n",
       "          [0.        ],\n",
       "          [0.        ]],\n",
       " \n",
       "         [[0.05302786],\n",
       "          [0.2878367 ],\n",
       "          [0.72328454],\n",
       "          ...,\n",
       "          [0.        ],\n",
       "          [0.        ],\n",
       "          [0.        ]]],\n",
       " \n",
       " \n",
       "        [[[0.        ],\n",
       "          [0.        ],\n",
       "          [0.        ],\n",
       "          ...,\n",
       "          [0.        ],\n",
       "          [0.        ],\n",
       "          [0.        ]],\n",
       " \n",
       "         [[0.        ],\n",
       "          [0.        ],\n",
       "          [0.        ],\n",
       "          ...,\n",
       "          [0.        ],\n",
       "          [0.        ],\n",
       "          [0.        ]],\n",
       " \n",
       "         [[0.        ],\n",
       "          [0.        ],\n",
       "          [0.        ],\n",
       "          ...,\n",
       "          [0.        ],\n",
       "          [0.        ],\n",
       "          [0.        ]],\n",
       " \n",
       "         ...,\n",
       " \n",
       "         [[0.        ],\n",
       "          [0.        ],\n",
       "          [0.        ],\n",
       "          ...,\n",
       "          [0.        ],\n",
       "          [0.        ],\n",
       "          [0.        ]],\n",
       " \n",
       "         [[0.        ],\n",
       "          [0.        ],\n",
       "          [0.        ],\n",
       "          ...,\n",
       "          [0.        ],\n",
       "          [0.        ],\n",
       "          [0.        ]],\n",
       " \n",
       "         [[0.        ],\n",
       "          [0.        ],\n",
       "          [0.        ],\n",
       "          ...,\n",
       "          [0.        ],\n",
       "          [0.        ],\n",
       "          [0.        ]]],\n",
       " \n",
       " \n",
       "        ...,\n",
       " \n",
       " \n",
       "        [[[0.        ],\n",
       "          [0.        ],\n",
       "          [0.        ],\n",
       "          ...,\n",
       "          [0.        ],\n",
       "          [0.        ],\n",
       "          [0.        ]],\n",
       " \n",
       "         [[0.        ],\n",
       "          [0.        ],\n",
       "          [0.        ],\n",
       "          ...,\n",
       "          [0.        ],\n",
       "          [0.        ],\n",
       "          [0.        ]],\n",
       " \n",
       "         [[0.        ],\n",
       "          [0.        ],\n",
       "          [0.        ],\n",
       "          ...,\n",
       "          [0.        ],\n",
       "          [0.        ],\n",
       "          [0.        ]],\n",
       " \n",
       "         ...,\n",
       " \n",
       "         [[0.        ],\n",
       "          [0.        ],\n",
       "          [0.        ],\n",
       "          ...,\n",
       "          [0.        ],\n",
       "          [0.        ],\n",
       "          [0.        ]],\n",
       " \n",
       "         [[0.        ],\n",
       "          [0.        ],\n",
       "          [0.        ],\n",
       "          ...,\n",
       "          [0.        ],\n",
       "          [0.        ],\n",
       "          [0.        ]],\n",
       " \n",
       "         [[0.        ],\n",
       "          [0.        ],\n",
       "          [0.        ],\n",
       "          ...,\n",
       "          [0.        ],\n",
       "          [0.        ],\n",
       "          [0.        ]]],\n",
       " \n",
       " \n",
       "        [[[0.        ],\n",
       "          [0.        ],\n",
       "          [0.        ],\n",
       "          ...,\n",
       "          [0.        ],\n",
       "          [0.        ],\n",
       "          [0.        ]],\n",
       " \n",
       "         [[0.        ],\n",
       "          [0.        ],\n",
       "          [0.        ],\n",
       "          ...,\n",
       "          [0.        ],\n",
       "          [0.        ],\n",
       "          [0.        ]],\n",
       " \n",
       "         [[0.        ],\n",
       "          [0.        ],\n",
       "          [0.        ],\n",
       "          ...,\n",
       "          [0.        ],\n",
       "          [0.        ],\n",
       "          [0.        ]],\n",
       " \n",
       "         ...,\n",
       " \n",
       "         [[0.        ],\n",
       "          [0.        ],\n",
       "          [0.        ],\n",
       "          ...,\n",
       "          [0.        ],\n",
       "          [0.        ],\n",
       "          [0.        ]],\n",
       " \n",
       "         [[0.        ],\n",
       "          [0.        ],\n",
       "          [0.        ],\n",
       "          ...,\n",
       "          [0.        ],\n",
       "          [0.        ],\n",
       "          [0.        ]],\n",
       " \n",
       "         [[0.        ],\n",
       "          [0.        ],\n",
       "          [0.        ],\n",
       "          ...,\n",
       "          [0.        ],\n",
       "          [0.        ],\n",
       "          [0.        ]]],\n",
       " \n",
       " \n",
       "        [[[0.        ],\n",
       "          [0.        ],\n",
       "          [0.        ],\n",
       "          ...,\n",
       "          [0.        ],\n",
       "          [0.        ],\n",
       "          [0.        ]],\n",
       " \n",
       "         [[0.        ],\n",
       "          [0.        ],\n",
       "          [0.        ],\n",
       "          ...,\n",
       "          [0.        ],\n",
       "          [0.        ],\n",
       "          [0.        ]],\n",
       " \n",
       "         [[0.        ],\n",
       "          [0.        ],\n",
       "          [0.        ],\n",
       "          ...,\n",
       "          [0.        ],\n",
       "          [0.        ],\n",
       "          [0.        ]],\n",
       " \n",
       "         ...,\n",
       " \n",
       "         [[0.        ],\n",
       "          [0.        ],\n",
       "          [0.        ],\n",
       "          ...,\n",
       "          [0.        ],\n",
       "          [0.        ],\n",
       "          [0.        ]],\n",
       " \n",
       "         [[0.        ],\n",
       "          [0.        ],\n",
       "          [0.        ],\n",
       "          ...,\n",
       "          [0.        ],\n",
       "          [0.        ],\n",
       "          [0.        ]],\n",
       " \n",
       "         [[0.        ],\n",
       "          [0.        ],\n",
       "          [0.        ],\n",
       "          ...,\n",
       "          [0.        ],\n",
       "          [0.        ],\n",
       "          [0.        ]]]], dtype=float32),\n",
       " array([3, 8, 9, 8, 0, 0, 7, 5, 4, 3, 5, 1, 0, 5, 6, 4, 6, 7, 6, 3, 8, 3,\n",
       "        6, 7, 6, 8, 4, 1, 5, 3, 7, 1], dtype=uint8))"
      ]
     },
     "execution_count": 6,
     "metadata": {},
     "output_type": "execute_result"
    }
   ],
   "source": [
    "print(len(train_val_generator.next()))\n",
    "print(train_val_generator.next()[0].shape)\n",
    "train_val_generator.next()"
   ]
  },
  {
   "cell_type": "code",
   "execution_count": 7,
   "metadata": {},
   "outputs": [
    {
     "name": "stdout",
     "output_type": "stream",
     "text": [
      "2\n",
      "(32, 28, 28, 1)\n"
     ]
    },
    {
     "data": {
      "image/png": "[encoded data removed]",
      "text/plain": [
       "<Figure size 720x288 with 10 Axes>"
      ]
     },
     "metadata": {},
     "output_type": "display_data"
    }
   ],
   "source": [
    "# an iterator can be iterated with a loop as the loop is calling the next() method\n",
    "print(len(train_val_generator.next())) # tuple of (X_train_val, y_train_val)\n",
    "print(train_val_generator.next()[0].shape) # 32 samples in a batch of images of\n",
    "# shape (32,32,3)\n",
    "\n",
    "plot_samples(train_val_generator.next()[0])\n"
   ]
  },
  {
   "cell_type": "code",
   "execution_count": 8,
   "metadata": {},
   "outputs": [
    {
     "name": "stdout",
     "output_type": "stream",
     "text": [
      "2\n",
      "(32, 28, 28, 1)\n"
     ]
    },
    {
     "data": {
      "text/plain": [
       "array([5, 2, 6, 5, 5, 9, 9, 1, 1, 6, 0, 5, 6, 8, 7, 9, 1, 9, 1, 3, 8, 3,\n",
       "       3, 3, 7, 7, 7, 9, 3, 0, 0, 1], dtype=uint8)"
      ]
     },
     "execution_count": 8,
     "metadata": {},
     "output_type": "execute_result"
    },
    {
     "data": {
      "image/png": "[encoded data removed]",
      "text/plain": [
       "<Figure size 720x288 with 10 Axes>"
      ]
     },
     "metadata": {},
     "output_type": "display_data"
    }
   ],
   "source": [
    "# an iterator can be iterated with a loop as the loop is calling the next() method\n",
    "print(len(train_val_generator.next())) # tuple of (X_train_val, y_train_val)\n",
    "\n",
    "sample_batch = train_val_generator.next()\n",
    "\n",
    "print(sample_batch[0].shape) # 32 samples in a batch of images of\n",
    "# shape (32,32,3)\n",
    "\n",
    "plot_samples(sample_batch[0])\n",
    "sample_batch[1]"
   ]
  },
  {
   "cell_type": "markdown",
   "metadata": {},
   "source": [
    "---\n",
    "## CNN model "
   ]
  },
  {
   "cell_type": "code",
   "execution_count": 9,
   "metadata": {},
   "outputs": [
    {
     "name": "stdout",
     "output_type": "stream",
     "text": [
      "Model: \"CNN_model\"\n",
      "_________________________________________________________________\n",
      " Layer (type)                Output Shape              Param #   \n",
      "=================================================================\n",
      " conv2d (Conv2D)             (None, 26, 26, 32)        320       \n",
      "                                                                 \n",
      " max_pooling2d (MaxPooling2D  (None, 13, 13, 32)       0         \n",
      " )                                                               \n",
      "                                                                 \n",
      " conv2d_1 (Conv2D)           (None, 11, 11, 32)        9248      \n",
      "                                                                 \n",
      " max_pooling2d_1 (MaxPooling  (None, 5, 5, 32)         0         \n",
      " 2D)                                                             \n",
      "                                                                 \n",
      " flatten (Flatten)           (None, 800)               0         \n",
      "                                                                 \n",
      " dropout (Dropout)           (None, 800)               0         \n",
      "                                                                 \n",
      " dense (Dense)               (None, 256)               205056    \n",
      "                                                                 \n",
      " dense_1 (Dense)             (None, 10)                2570      \n",
      "                                                                 \n",
      "=================================================================\n",
      "Total params: 217,194\n",
      "Trainable params: 217,194\n",
      "Non-trainable params: 0\n",
      "_________________________________________________________________\n"
     ]
    }
   ],
   "source": [
    "from tensorflow.keras.models import Sequential\n",
    "from tensorflow.keras.layers import Dense, Conv2D, Flatten, MaxPooling2D, Dropout\n",
    "from tensorflow.keras.optimizers import Adam\n",
    "\n",
    "def CNN_model(learning_rate=0.001, drop_rate=0.5, kernels=[32, 32]):\n",
    "    adam = Adam(learning_rate=learning_rate)\n",
    "\n",
    "    model = Sequential(name=\"CNN_model\")\n",
    "\n",
    "    for number_kernel in kernels:\n",
    "        conv_layer = Conv2D(\n",
    "            number_kernel,\n",
    "            kernel_size=(3, 3),\n",
    "            activation=\"relu\",\n",
    "            kernel_initializer=\"he_normal\",\n",
    "            input_shape=X_train.shape[1:],\n",
    "        )\n",
    "\n",
    "        model.add(conv_layer)\n",
    "        # defaults to pool_size if None\n",
    "        model.add(MaxPooling2D(pool_size=(2, 2), strides = 2))\n",
    "\n",
    "    model.add(Flatten())\n",
    "    model.add(Dropout(drop_rate))\n",
    "    model.add(Dense(256, activation=\"relu\", kernel_initializer=\"he_normal\"))\n",
    "    model.add(Dense(10, activation=\"softmax\"))\n",
    "\n",
    "    model.compile(\n",
    "        loss=\"sparse_categorical_crossentropy\", optimizer=adam, metrics=[\"acc\"]\n",
    "    )\n",
    "\n",
    "    return model\n",
    "\n",
    "model = CNN_model(drop_rate=.5)\n",
    "\n",
    "model.summary()\n"
   ]
  },
  {
   "cell_type": "markdown",
   "metadata": {},
   "source": [
    "## Train on augmented data\n",
    "\n",
    " - steps_per_epoch is the number of times we generate our data from the generator\n",
    " - since we have batches on 32 samples for each time we generate, we could count how many samples before we cover original data size\n",
    " - 50000/32 = "
   ]
  },
  {
   "cell_type": "code",
   "execution_count": 10,
   "metadata": {},
   "outputs": [],
   "source": [
    "steps_per_epochs = len(X_train_val)/32\n",
    "validation_steps = len(X_val)/32\n"
   ]
  },
  {
   "cell_type": "code",
   "execution_count": 11,
   "metadata": {},
   "outputs": [
    {
     "name": "stdout",
     "output_type": "stream",
     "text": [
      "Epoch 1/100\n",
      "1500/1500 [==============================] - 40s 26ms/step - loss: 1.0168 - acc: 0.6494 - val_loss: 0.2498 - val_acc: 0.9257\n",
      "Epoch 2/100\n",
      "1500/1500 [==============================] - 39s 26ms/step - loss: 0.5306 - acc: 0.8267 - val_loss: 0.1645 - val_acc: 0.9507\n",
      "Epoch 3/100\n",
      "1500/1500 [==============================] - 40s 27ms/step - loss: 0.4130 - acc: 0.8675 - val_loss: 0.1352 - val_acc: 0.9608\n",
      "Epoch 4/100\n",
      "1500/1500 [==============================] - 40s 27ms/step - loss: 0.3517 - acc: 0.8874 - val_loss: 0.1195 - val_acc: 0.9618\n",
      "Epoch 5/100\n",
      "1500/1500 [==============================] - 39s 26ms/step - loss: 0.3178 - acc: 0.8988 - val_loss: 0.0987 - val_acc: 0.9708\n",
      "Epoch 6/100\n",
      "1500/1500 [==============================] - 40s 27ms/step - loss: 0.3005 - acc: 0.9043 - val_loss: 0.1041 - val_acc: 0.9651\n",
      "Epoch 7/100\n",
      "1500/1500 [==============================] - 41s 27ms/step - loss: 0.2760 - acc: 0.9107 - val_loss: 0.0867 - val_acc: 0.9723\n",
      "Epoch 8/100\n",
      "1500/1500 [==============================] - 39s 26ms/step - loss: 0.2619 - acc: 0.9178 - val_loss: 0.0820 - val_acc: 0.9743\n",
      "Epoch 9/100\n",
      "1500/1500 [==============================] - 40s 27ms/step - loss: 0.2573 - acc: 0.9197 - val_loss: 0.0859 - val_acc: 0.9735\n",
      "Epoch 10/100\n",
      "1500/1500 [==============================] - 40s 26ms/step - loss: 0.2453 - acc: 0.9217 - val_loss: 0.0866 - val_acc: 0.9734\n",
      "Epoch 11/100\n",
      "1500/1500 [==============================] - 39s 26ms/step - loss: 0.2391 - acc: 0.9251 - val_loss: 0.0816 - val_acc: 0.9742\n",
      "Epoch 12/100\n",
      "1500/1500 [==============================] - 40s 26ms/step - loss: 0.2250 - acc: 0.9291 - val_loss: 0.0812 - val_acc: 0.9746\n",
      "Epoch 13/100\n",
      "1500/1500 [==============================] - 39s 26ms/step - loss: 0.2274 - acc: 0.9281 - val_loss: 0.0629 - val_acc: 0.9804\n",
      "Epoch 14/100\n",
      "1500/1500 [==============================] - 40s 27ms/step - loss: 0.2217 - acc: 0.9310 - val_loss: 0.0659 - val_acc: 0.9791\n",
      "Epoch 15/100\n",
      "1500/1500 [==============================] - 38s 26ms/step - loss: 0.2134 - acc: 0.9330 - val_loss: 0.0714 - val_acc: 0.9780\n",
      "Epoch 16/100\n",
      "1500/1500 [==============================] - 32s 21ms/step - loss: 0.2061 - acc: 0.9362 - val_loss: 0.0786 - val_acc: 0.9755\n",
      "Epoch 17/100\n",
      "1500/1500 [==============================] - 32s 21ms/step - loss: 0.2044 - acc: 0.9366 - val_loss: 0.0752 - val_acc: 0.9768\n",
      "Epoch 18/100\n",
      "1500/1500 [==============================] - 32s 21ms/step - loss: 0.2052 - acc: 0.9349 - val_loss: 0.0750 - val_acc: 0.9782\n"
     ]
    },
    {
     "data": {
      "text/plain": [
       "<keras.callbacks.History at 0x1c4f680e730>"
      ]
     },
     "execution_count": 11,
     "metadata": {},
     "output_type": "execute_result"
    }
   ],
   "source": [
    "from tensorflow.keras.callbacks import EarlyStopping\n",
    "\n",
    "early_stopper = EarlyStopping(\n",
    "    monitor=\"val_acc\", mode=\"max\", patience=5, restore_best_weights=True\n",
    ")\n",
    "\n",
    "model.fit(\n",
    "    train_val_generator,\n",
    "    steps_per_epoch=1500,\n",
    "    epochs=100,\n",
    "    callbacks=[early_stopper],\n",
    "    validation_data=val_generator,\n",
    "    validation_steps=312,\n",
    ")\n"
   ]
  },
  {
   "cell_type": "code",
   "execution_count": 12,
   "metadata": {},
   "outputs": [
    {
     "data": {
      "text/html": [
       "<div>\n",
       "<style scoped>\n",
       "    .dataframe tbody tr th:only-of-type {\n",
       "        vertical-align: middle;\n",
       "    }\n",
       "\n",
       "    .dataframe tbody tr th {\n",
       "        vertical-align: top;\n",
       "    }\n",
       "\n",
       "    .dataframe thead th {\n",
       "        text-align: right;\n",
       "    }\n",
       "</style>\n",
       "<table border=\"1\" class=\"dataframe\">\n",
       "  <thead>\n",
       "    <tr style=\"text-align: right;\">\n",
       "      <th></th>\n",
       "      <th>loss</th>\n",
       "      <th>acc</th>\n",
       "      <th>val_loss</th>\n",
       "      <th>val_acc</th>\n",
       "    </tr>\n",
       "  </thead>\n",
       "  <tbody>\n",
       "    <tr>\n",
       "      <th>0</th>\n",
       "      <td>1.016782</td>\n",
       "      <td>0.649446</td>\n",
       "      <td>0.249755</td>\n",
       "      <td>0.925681</td>\n",
       "    </tr>\n",
       "    <tr>\n",
       "      <th>1</th>\n",
       "      <td>0.530607</td>\n",
       "      <td>0.826713</td>\n",
       "      <td>0.164452</td>\n",
       "      <td>0.950721</td>\n",
       "    </tr>\n",
       "    <tr>\n",
       "      <th>2</th>\n",
       "      <td>0.413043</td>\n",
       "      <td>0.867518</td>\n",
       "      <td>0.135206</td>\n",
       "      <td>0.960837</td>\n",
       "    </tr>\n",
       "    <tr>\n",
       "      <th>3</th>\n",
       "      <td>0.351674</td>\n",
       "      <td>0.887358</td>\n",
       "      <td>0.119500</td>\n",
       "      <td>0.961839</td>\n",
       "    </tr>\n",
       "    <tr>\n",
       "      <th>4</th>\n",
       "      <td>0.317765</td>\n",
       "      <td>0.898758</td>\n",
       "      <td>0.098681</td>\n",
       "      <td>0.970753</td>\n",
       "    </tr>\n",
       "  </tbody>\n",
       "</table>\n",
       "</div>"
      ],
      "text/plain": [
       "       loss       acc  val_loss   val_acc\n",
       "0  1.016782  0.649446  0.249755  0.925681\n",
       "1  0.530607  0.826713  0.164452  0.950721\n",
       "2  0.413043  0.867518  0.135206  0.960837\n",
       "3  0.351674  0.887358  0.119500  0.961839\n",
       "4  0.317765  0.898758  0.098681  0.970753"
      ]
     },
     "execution_count": 12,
     "metadata": {},
     "output_type": "execute_result"
    }
   ],
   "source": [
    "metrics = pd.DataFrame(model.history.history)\n",
    "metrics.head()"
   ]
  },
  {
   "cell_type": "code",
   "execution_count": 13,
   "metadata": {},
   "outputs": [
    {
     "data": {
      "image/png": "[encoded data removed]",
      "text/plain": [
       "<Figure size 864x288 with 2 Axes>"
      ]
     },
     "metadata": {},
     "output_type": "display_data"
    }
   ],
   "source": [
    "def plot_metrics(metrics):\n",
    "    _, ax = plt.subplots(1,2, figsize = (12,4))\n",
    "    metrics[[\"loss\", \"val_loss\"]].plot(ax = ax[0], title = \"Loss\", grid = True)\n",
    "    metrics[[\"acc\", \"val_acc\"]].plot(ax = ax[1], title = \"Accuracy\", grid = True)\n",
    "\n",
    "plot_metrics(metrics)\n",
    "# val accuracy is higher than train accuracy, probably due to train data being\n",
    "# augmented, which gives a lot of varieties in data and is harder to overfit"
   ]
  },
  {
   "cell_type": "markdown",
   "metadata": {},
   "source": [
    "---\n",
    "## Train on all training data"
   ]
  },
  {
   "cell_type": "code",
   "execution_count": 14,
   "metadata": {},
   "outputs": [
    {
     "name": "stdout",
     "output_type": "stream",
     "text": [
      "Epoch 1/18\n",
      "1500/1500 [==============================] - 31s 21ms/step - loss: 0.9922 - acc: 0.6625\n",
      "Epoch 2/18\n",
      "1500/1500 [==============================] - 30s 20ms/step - loss: 0.5223 - acc: 0.8300\n",
      "Epoch 3/18\n",
      "1500/1500 [==============================] - 31s 20ms/step - loss: 0.4008 - acc: 0.8712\n",
      "Epoch 4/18\n",
      "1500/1500 [==============================] - 30s 20ms/step - loss: 0.3466 - acc: 0.8898\n",
      "Epoch 5/18\n",
      "1500/1500 [==============================] - 30s 20ms/step - loss: 0.3113 - acc: 0.9011\n",
      "Epoch 6/18\n",
      "1500/1500 [==============================] - 31s 20ms/step - loss: 0.2910 - acc: 0.9073\n",
      "Epoch 7/18\n",
      "1500/1500 [==============================] - 31s 21ms/step - loss: 0.2750 - acc: 0.9114\n",
      "Epoch 8/18\n",
      "1500/1500 [==============================] - 31s 20ms/step - loss: 0.2654 - acc: 0.9162\n",
      "Epoch 9/18\n",
      "1500/1500 [==============================] - 36s 24ms/step - loss: 0.2472 - acc: 0.9223\n",
      "Epoch 10/18\n",
      "1500/1500 [==============================] - 39s 26ms/step - loss: 0.2450 - acc: 0.9240\n",
      "Epoch 11/18\n",
      "1500/1500 [==============================] - 42s 28ms/step - loss: 0.2350 - acc: 0.9250\n",
      "Epoch 12/18\n",
      "1500/1500 [==============================] - 47s 31ms/step - loss: 0.2374 - acc: 0.9251\n",
      "Epoch 13/18\n",
      "1500/1500 [==============================] - 50s 33ms/step - loss: 0.2240 - acc: 0.9284\n",
      "Epoch 14/18\n",
      "1500/1500 [==============================] - 44s 29ms/step - loss: 0.2162 - acc: 0.9309\n",
      "Epoch 15/18\n",
      "1500/1500 [==============================] - 47s 31ms/step - loss: 0.2128 - acc: 0.9340\n",
      "Epoch 16/18\n",
      "1500/1500 [==============================] - 45s 30ms/step - loss: 0.2164 - acc: 0.9324\n",
      "Epoch 17/18\n",
      "1500/1500 [==============================] - 39s 26ms/step - loss: 0.2050 - acc: 0.9359\n",
      "Epoch 18/18\n",
      "1500/1500 [==============================] - 31s 20ms/step - loss: 0.2060 - acc: 0.9366\n"
     ]
    },
    {
     "data": {
      "text/plain": [
       "<keras.callbacks.History at 0x1c4819e8670>"
      ]
     },
     "execution_count": 14,
     "metadata": {},
     "output_type": "execute_result"
    }
   ],
   "source": [
    "model = CNN_model()\n",
    "model.fit(\n",
    "    train_generator,\n",
    "    steps_per_epoch=1500,\n",
    "    epochs=18,\n",
    ")\n"
   ]
  },
  {
   "cell_type": "code",
   "execution_count": 15,
   "metadata": {},
   "outputs": [
    {
     "name": "stdout",
     "output_type": "stream",
     "text": [
      "              precision    recall  f1-score   support\n",
      "\n",
      "           0       0.98      1.00      0.99       980\n",
      "           1       1.00      0.99      0.99      1135\n",
      "           2       0.93      0.97      0.95      1032\n",
      "           3       0.99      0.98      0.99      1010\n",
      "           4       0.98      0.99      0.99       982\n",
      "           5       0.95      0.96      0.96       892\n",
      "           6       0.98      0.97      0.98       958\n",
      "           7       0.99      0.95      0.97      1028\n",
      "           8       0.98      0.99      0.99       974\n",
      "           9       0.99      0.98      0.98      1009\n",
      "\n",
      "    accuracy                           0.98     10000\n",
      "   macro avg       0.98      0.98      0.98     10000\n",
      "weighted avg       0.98      0.98      0.98     10000\n",
      "\n"
     ]
    },
    {
     "data": {
      "text/plain": [
       "<sklearn.metrics._plot.confusion_matrix.ConfusionMatrixDisplay at 0x1c481aebf10>"
      ]
     },
     "execution_count": 15,
     "metadata": {},
     "output_type": "execute_result"
    },
    {
     "data": {
      "image/png": "[encoded data removed]",
      "text/plain": [
       "<Figure size 432x288 with 2 Axes>"
      ]
     },
     "metadata": {},
     "output_type": "display_data"
    }
   ],
   "source": [
    "from sklearn.metrics import (\n",
    "    classification_report,\n",
    "    confusion_matrix,\n",
    "    ConfusionMatrixDisplay,\n",
    ")\n",
    "\n",
    "y_pred = model.predict(X_test)\n",
    "#y_pred = np.argmax(y_pred)\n",
    "\n",
    "y_pred = np.argmax(y_pred, axis = 1)\n",
    "\n",
    "\n",
    "print(classification_report(y_test, y_pred))\n",
    "\n",
    "cm = confusion_matrix(y_test, y_pred)\n",
    "ConfusionMatrixDisplay(cm).plot()"
   ]
  }
 ],
 "metadata": {
  "interpreter": {
   "hash": "728748ec3161155c39b5535d4523f3d8461ad23eee79b957d57d28dede5df0d4"
  },
  "kernelspec": {
   "display_name": "Python 3.9.6 ('deep-learning-Yuna-Liu-ttYme0ov')",
   "language": "python",
   "name": "python3"
  },
  "language_info": {
   "codemirror_mode": {
    "name": "ipython",
    "version": 3
   },
   "file_extension": ".py",
   "mimetype": "text/x-python",
   "name": "python",
   "nbconvert_exporter": "python",
   "pygments_lexer": "ipython3",
   "version": "3.9.6"
  },
  "orig_nbformat": 4
 },
 "nbformat": 4,
 "nbformat_minor": 2
}
