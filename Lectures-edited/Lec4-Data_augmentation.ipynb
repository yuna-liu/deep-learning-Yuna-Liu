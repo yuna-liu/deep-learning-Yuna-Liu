{
 "cells": [
  {
   "cell_type": "markdown",
   "metadata": {},
   "source": [
    "<a href=\"https://colab.research.google.com/github/kokchun/Deep-learning-AI21/blob/main/Lectures/Lec4-Data_augmentation.ipynb\" target=\"_parent\"><img align=\"left\" src=\"https://colab.research.google.com/assets/colab-badge.svg\" alt=\"Open In Colab\"/></a> &nbsp; for interacting with the code\n"
   ]
  },
  {
   "cell_type": "markdown",
   "metadata": {},
   "source": [
    "---\n",
    "# Lecture notes - Data augmentation\n",
    "---\n",
    "\n",
    "This is the lecture note for **data augmentation**. \n",
    "\n",
    "<p class = \"alert alert-info\" role=\"alert\"><b>Note</b> that this lecture note gives a brief introduction to data augmentation. I encourage you to read further about data augmentation. </p>\n",
    "\n",
    "Read more:\n",
    "\n",
    "- [ImageDataGenerator - TensorFlow](https://www.tensorflow.org/api_docs/python/tf/keras/preprocessing/image/ImageDataGenerator?version=nightly)\n",
    "- [Data augmentation - wikipedia](https://en.wikipedia.org/wiki/Data_augmentation)\n",
    "\n",
    "---"
   ]
  },
  {
   "cell_type": "markdown",
   "metadata": {},
   "source": [
    "## Data augmentation\n",
    "- artificiellt skapa fler bilder\n",
    "- slumpmässigt:\n",
    "-- roterar till en viss grad (radianer)\n",
    "-- translatera slumpmässigt\n",
    "-- flippa horsisontellt, vertikalt(spegla)\n",
    "-- shear\n",
    "-- ..."
   ]
  },
  {
   "cell_type": "code",
   "execution_count": 13,
   "metadata": {},
   "outputs": [
    {
     "data": {
      "image/png": "[encoded data removed]",
      "text/plain": [
       "<Figure size 720x288 with 10 Axes>"
      ]
     },
     "metadata": {},
     "output_type": "display_data"
    }
   ],
   "source": [
    "import seaborn as sns\n",
    "import numpy as np\n",
    "import matplotlib.pyplot as plt\n",
    "import pandas as pd\n",
    "from tensorflow.keras.datasets.mnist import load_data\n",
    "import os\n",
    "\n",
    "(X_train, y_train), (X_test, y_test) = load_data()\n",
    "y_train, y_test = y_train.ravel(), y_test.ravel()\n",
    "# The numpy.ravel() functions returns contiguous flattened array\n",
    "# (1D array with all the input-array elements and with the same type as it). \n",
    "\n",
    "def plot_samples(data):\n",
    "    fig, axes = plt.subplots(2, 5, figsize=(10, 4))\n",
    "    for i, ax in enumerate(axes.flatten()):\n",
    "        ax.imshow(data[i], cmap = \"gray\")\n",
    "        ax.axis(\"off\")\n",
    "    fig.tight_layout()\n",
    "\n",
    "plot_samples(X_train)\n"
   ]
  },
  {
   "cell_type": "code",
   "execution_count": 14,
   "metadata": {},
   "outputs": [
    {
     "name": "stdout",
     "output_type": "stream",
     "text": [
      "X_train.min()=0.0, X_train.max()=1.0\n"
     ]
    }
   ],
   "source": [
    "X_train = X_train.astype(\"float32\") / 255\n",
    "X_test = X_test.astype(\"float32\") / 255\n",
    "print(f\"{X_train.min()=}, {X_train.max()=}\")"
   ]
  },
  {
   "cell_type": "markdown",
   "metadata": {},
   "source": [
    "---\n",
    "## Train|val|test split"
   ]
  },
  {
   "cell_type": "code",
   "execution_count": 15,
   "metadata": {},
   "outputs": [
    {
     "data": {
      "text/plain": [
       "(50000, 28, 28)"
      ]
     },
     "execution_count": 15,
     "metadata": {},
     "output_type": "execute_result"
    }
   ],
   "source": [
    "from sklearn.model_selection import train_test_split\n",
    "\n",
    "X_train_val, X_val, y_train_val, y_val = train_test_split(\n",
    "    X_train, y_train, test_size=1 / 6, random_state=42\n",
    ")\n",
    "\n",
    "X_train_val.shape"
   ]
  },
  {
   "cell_type": "code",
   "execution_count": 17,
   "metadata": {},
   "outputs": [
    {
     "data": {
      "text/plain": [
       "(50000, 28, 28, 1)"
      ]
     },
     "execution_count": 17,
     "metadata": {},
     "output_type": "execute_result"
    }
   ],
   "source": [
    "# ImageDataGenerator requires rank 4 \n",
    "X_train_val = X_train_val[:,:,:,None]\n",
    "X_val = X_val[:,:,:,None]\n",
    "X_train = X_train[:,:,:,None]\n",
    "X_test = X_test[:,:,:,None]\n",
    "\n",
    "X_train_val.shape"
   ]
  },
  {
   "cell_type": "markdown",
   "metadata": {},
   "source": [
    "---\n",
    "## Data augmentation\n",
    "- ImageDataGenerator to augment images"
   ]
  },
  {
   "cell_type": "code",
   "execution_count": 31,
   "metadata": {},
   "outputs": [
    {
     "data": {
      "text/plain": [
       "(<keras.preprocessing.image.NumpyArrayIterator at 0x1dd832be2b0>,\n",
       " <keras.preprocessing.image.NumpyArrayIterator at 0x1dd835df4f0>)"
      ]
     },
     "execution_count": 31,
     "metadata": {},
     "output_type": "execute_result"
    }
   ],
   "source": [
    "from tensorflow.keras.preprocessing.image import ImageDataGenerator\n",
    "\n",
    "plt.style.use(\"seaborn-white\")\n",
    "\n",
    "train_image_generator = ImageDataGenerator(\n",
    "    rotation_range=10,\n",
    "    shear_range=0.2,\n",
    "    zoom_range=0.2,\n",
    "    horizontal_flip=True,\n",
    "    height_shift_range=0.2,\n",
    "    width_shift_range=0.2,\n",
    ")\n",
    "\n",
    "# don't augment test data and validation data as we want to test on original data\n",
    "# we just instantiate an ImageDataGenerator without augmentation\n",
    "test_image_generator = ImageDataGenerator()\n",
    "\n",
    "# batch size 32 for mini-batch gradient descent \n",
    "train_val_generator = train_image_generator.flow(\n",
    "    X_train_val, y_train_val, batch_size=32\n",
    ")\n",
    "# mini-batch gradient descent to get uncorrelated \n",
    "# batch size 32 for mini-batch gradient descent \n",
    "\n",
    "train_generator = train_image_generator.flow(\n",
    "    X_train, y_train, batch_size=32\n",
    ")\n",
    "\n",
    "val_generator = test_image_generator.flow(X_val, y_val, batch_size=32)\n",
    "\n",
    "# NumpyArrayIterator\n",
    "train_val_generator, val_generator"
   ]
  },
  {
   "cell_type": "code",
   "execution_count": 23,
   "metadata": {},
   "outputs": [
    {
     "name": "stdout",
     "output_type": "stream",
     "text": [
      "2\n",
      "(32, 28, 28, 1)\n"
     ]
    },
    {
     "data": {
      "text/plain": [
       "(array([[[[0.        ],\n",
       "          [0.        ],\n",
       "          [0.        ],\n",
       "          ...,\n",
       "          [0.        ],\n",
       "          [0.        ],\n",
       "          [0.        ]],\n",
       " \n",
       "         [[0.        ],\n",
       "          [0.        ],\n",
       "          [0.        ],\n",
       "          ...,\n",
       "          [0.        ],\n",
       "          [0.        ],\n",
       "          [0.        ]],\n",
       " \n",
       "         [[0.        ],\n",
       "          [0.        ],\n",
       "          [0.        ],\n",
       "          ...,\n",
       "          [0.        ],\n",
       "          [0.        ],\n",
       "          [0.        ]],\n",
       " \n",
       "         ...,\n",
       " \n",
       "         [[0.        ],\n",
       "          [0.        ],\n",
       "          [0.        ],\n",
       "          ...,\n",
       "          [0.99215686],\n",
       "          [0.99215686],\n",
       "          [0.5466881 ]],\n",
       " \n",
       "         [[0.        ],\n",
       "          [0.        ],\n",
       "          [0.        ],\n",
       "          ...,\n",
       "          [0.95588684],\n",
       "          [0.97413707],\n",
       "          [0.2915265 ]],\n",
       " \n",
       "         [[0.        ],\n",
       "          [0.        ],\n",
       "          [0.        ],\n",
       "          ...,\n",
       "          [0.71412235],\n",
       "          [0.6442384 ],\n",
       "          [0.01271778]]],\n",
       " \n",
       " \n",
       "        [[[0.        ],\n",
       "          [0.        ],\n",
       "          [0.        ],\n",
       "          ...,\n",
       "          [0.        ],\n",
       "          [0.        ],\n",
       "          [0.        ]],\n",
       " \n",
       "         [[0.        ],\n",
       "          [0.        ],\n",
       "          [0.        ],\n",
       "          ...,\n",
       "          [0.        ],\n",
       "          [0.        ],\n",
       "          [0.        ]],\n",
       " \n",
       "         [[0.        ],\n",
       "          [0.        ],\n",
       "          [0.        ],\n",
       "          ...,\n",
       "          [0.        ],\n",
       "          [0.        ],\n",
       "          [0.        ]],\n",
       " \n",
       "         ...,\n",
       " \n",
       "         [[0.        ],\n",
       "          [0.        ],\n",
       "          [0.        ],\n",
       "          ...,\n",
       "          [0.        ],\n",
       "          [0.        ],\n",
       "          [0.        ]],\n",
       " \n",
       "         [[0.        ],\n",
       "          [0.        ],\n",
       "          [0.        ],\n",
       "          ...,\n",
       "          [0.        ],\n",
       "          [0.        ],\n",
       "          [0.        ]],\n",
       " \n",
       "         [[0.        ],\n",
       "          [0.        ],\n",
       "          [0.        ],\n",
       "          ...,\n",
       "          [0.        ],\n",
       "          [0.        ],\n",
       "          [0.        ]]],\n",
       " \n",
       " \n",
       "        [[[0.        ],\n",
       "          [0.        ],\n",
       "          [0.        ],\n",
       "          ...,\n",
       "          [0.        ],\n",
       "          [0.        ],\n",
       "          [0.        ]],\n",
       " \n",
       "         [[0.        ],\n",
       "          [0.        ],\n",
       "          [0.        ],\n",
       "          ...,\n",
       "          [0.        ],\n",
       "          [0.        ],\n",
       "          [0.        ]],\n",
       " \n",
       "         [[0.        ],\n",
       "          [0.        ],\n",
       "          [0.        ],\n",
       "          ...,\n",
       "          [0.        ],\n",
       "          [0.        ],\n",
       "          [0.        ]],\n",
       " \n",
       "         ...,\n",
       " \n",
       "         [[0.        ],\n",
       "          [0.        ],\n",
       "          [0.        ],\n",
       "          ...,\n",
       "          [0.        ],\n",
       "          [0.        ],\n",
       "          [0.        ]],\n",
       " \n",
       "         [[0.        ],\n",
       "          [0.        ],\n",
       "          [0.        ],\n",
       "          ...,\n",
       "          [0.        ],\n",
       "          [0.        ],\n",
       "          [0.        ]],\n",
       " \n",
       "         [[0.        ],\n",
       "          [0.        ],\n",
       "          [0.        ],\n",
       "          ...,\n",
       "          [0.        ],\n",
       "          [0.        ],\n",
       "          [0.        ]]],\n",
       " \n",
       " \n",
       "        ...,\n",
       " \n",
       " \n",
       "        [[[0.        ],\n",
       "          [0.        ],\n",
       "          [0.        ],\n",
       "          ...,\n",
       "          [0.        ],\n",
       "          [0.        ],\n",
       "          [0.        ]],\n",
       " \n",
       "         [[0.        ],\n",
       "          [0.        ],\n",
       "          [0.        ],\n",
       "          ...,\n",
       "          [0.        ],\n",
       "          [0.        ],\n",
       "          [0.        ]],\n",
       " \n",
       "         [[0.        ],\n",
       "          [0.        ],\n",
       "          [0.02179528],\n",
       "          ...,\n",
       "          [0.        ],\n",
       "          [0.        ],\n",
       "          [0.        ]],\n",
       " \n",
       "         ...,\n",
       " \n",
       "         [[0.        ],\n",
       "          [0.        ],\n",
       "          [0.        ],\n",
       "          ...,\n",
       "          [0.        ],\n",
       "          [0.        ],\n",
       "          [0.        ]],\n",
       " \n",
       "         [[0.        ],\n",
       "          [0.        ],\n",
       "          [0.        ],\n",
       "          ...,\n",
       "          [0.        ],\n",
       "          [0.        ],\n",
       "          [0.        ]],\n",
       " \n",
       "         [[0.        ],\n",
       "          [0.        ],\n",
       "          [0.        ],\n",
       "          ...,\n",
       "          [0.        ],\n",
       "          [0.        ],\n",
       "          [0.        ]]],\n",
       " \n",
       " \n",
       "        [[[0.        ],\n",
       "          [0.        ],\n",
       "          [0.        ],\n",
       "          ...,\n",
       "          [0.        ],\n",
       "          [0.        ],\n",
       "          [0.        ]],\n",
       " \n",
       "         [[0.        ],\n",
       "          [0.        ],\n",
       "          [0.        ],\n",
       "          ...,\n",
       "          [0.        ],\n",
       "          [0.        ],\n",
       "          [0.        ]],\n",
       " \n",
       "         [[0.        ],\n",
       "          [0.        ],\n",
       "          [0.        ],\n",
       "          ...,\n",
       "          [0.        ],\n",
       "          [0.        ],\n",
       "          [0.        ]],\n",
       " \n",
       "         ...,\n",
       " \n",
       "         [[0.        ],\n",
       "          [0.        ],\n",
       "          [0.        ],\n",
       "          ...,\n",
       "          [0.        ],\n",
       "          [0.        ],\n",
       "          [0.        ]],\n",
       " \n",
       "         [[0.        ],\n",
       "          [0.        ],\n",
       "          [0.        ],\n",
       "          ...,\n",
       "          [0.        ],\n",
       "          [0.        ],\n",
       "          [0.        ]],\n",
       " \n",
       "         [[0.        ],\n",
       "          [0.        ],\n",
       "          [0.        ],\n",
       "          ...,\n",
       "          [0.        ],\n",
       "          [0.        ],\n",
       "          [0.        ]]],\n",
       " \n",
       " \n",
       "        [[[0.        ],\n",
       "          [0.        ],\n",
       "          [0.        ],\n",
       "          ...,\n",
       "          [0.        ],\n",
       "          [0.        ],\n",
       "          [0.        ]],\n",
       " \n",
       "         [[0.        ],\n",
       "          [0.        ],\n",
       "          [0.        ],\n",
       "          ...,\n",
       "          [0.        ],\n",
       "          [0.        ],\n",
       "          [0.        ]],\n",
       " \n",
       "         [[0.        ],\n",
       "          [0.        ],\n",
       "          [0.        ],\n",
       "          ...,\n",
       "          [0.        ],\n",
       "          [0.        ],\n",
       "          [0.        ]],\n",
       " \n",
       "         ...,\n",
       " \n",
       "         [[0.        ],\n",
       "          [0.        ],\n",
       "          [0.        ],\n",
       "          ...,\n",
       "          [0.        ],\n",
       "          [0.        ],\n",
       "          [0.        ]],\n",
       " \n",
       "         [[0.        ],\n",
       "          [0.        ],\n",
       "          [0.        ],\n",
       "          ...,\n",
       "          [0.        ],\n",
       "          [0.        ],\n",
       "          [0.        ]],\n",
       " \n",
       "         [[0.        ],\n",
       "          [0.        ],\n",
       "          [0.        ],\n",
       "          ...,\n",
       "          [0.        ],\n",
       "          [0.        ],\n",
       "          [0.        ]]]], dtype=float32),\n",
       " array([1, 6, 8, 9, 0, 7, 7, 4, 9, 2, 5, 5, 9, 1, 7, 1, 6, 7, 6, 0, 2, 8,\n",
       "        0, 1, 1, 7, 0, 7, 7, 3, 5, 1], dtype=uint8))"
      ]
     },
     "execution_count": 23,
     "metadata": {},
     "output_type": "execute_result"
    }
   ],
   "source": [
    "print(len(train_val_generator.next()))\n",
    "print(train_val_generator.next()[0].shape)\n",
    "train_val_generator.next()"
   ]
  },
  {
   "cell_type": "code",
   "execution_count": 26,
   "metadata": {},
   "outputs": [
    {
     "name": "stdout",
     "output_type": "stream",
     "text": [
      "2\n",
      "(32, 28, 28, 1)\n"
     ]
    },
    {
     "data": {
      "image/png": "[encoded data removed]",
      "text/plain": [
       "<Figure size 720x288 with 10 Axes>"
      ]
     },
     "metadata": {},
     "output_type": "display_data"
    }
   ],
   "source": [
    "# an iterator can be iterated with a loop as the loop is calling the next() method\n",
    "print(len(train_val_generator.next())) # tuple of (X_train_val, y_train_val)\n",
    "print(train_val_generator.next()[0].shape) # 32 samples in a batch of images of\n",
    "# shape (32,32,3)\n",
    "\n",
    "plot_samples(train_val_generator.next()[0])\n"
   ]
  },
  {
   "cell_type": "code",
   "execution_count": 33,
   "metadata": {},
   "outputs": [
    {
     "name": "stdout",
     "output_type": "stream",
     "text": [
      "2\n",
      "(32, 28, 28, 1)\n"
     ]
    },
    {
     "data": {
      "text/plain": [
       "array([4, 2, 9, 4, 4, 0, 6, 1, 4, 7, 7, 9, 3, 5, 7, 5, 5, 1, 8, 7, 4, 3,\n",
       "       9, 1, 6, 8, 1, 6, 4, 6, 8, 2], dtype=uint8)"
      ]
     },
     "execution_count": 33,
     "metadata": {},
     "output_type": "execute_result"
    },
    {
     "data": {
      "image/png": "[encoded data removed]",
      "text/plain": [
       "<Figure size 720x288 with 10 Axes>"
      ]
     },
     "metadata": {},
     "output_type": "display_data"
    }
   ],
   "source": [
    "# an iterator can be iterated with a loop as the loop is calling the next() method\n",
    "print(len(train_val_generator.next())) # tuple of (X_train_val, y_train_val)\n",
    "\n",
    "sample_batch = train_val_generator.next()\n",
    "\n",
    "print(sample_batch[0].shape) # 32 samples in a batch of images of\n",
    "# shape (32,32,3)\n",
    "\n",
    "plot_samples(sample_batch[0])\n",
    "sample_batch[1]"
   ]
  },
  {
   "cell_type": "markdown",
   "metadata": {},
   "source": [
    "---\n",
    "## CNN model "
   ]
  },
  {
   "cell_type": "code",
   "execution_count": 34,
   "metadata": {},
   "outputs": [
    {
     "name": "stdout",
     "output_type": "stream",
     "text": [
      "Model: \"CNN_model\"\n",
      "_________________________________________________________________\n",
      " Layer (type)                Output Shape              Param #   \n",
      "=================================================================\n",
      " conv2d_2 (Conv2D)           (None, 26, 26, 32)        320       \n",
      "                                                                 \n",
      " max_pooling2d_2 (MaxPooling  (None, 13, 13, 32)       0         \n",
      " 2D)                                                             \n",
      "                                                                 \n",
      " conv2d_3 (Conv2D)           (None, 11, 11, 32)        9248      \n",
      "                                                                 \n",
      " max_pooling2d_3 (MaxPooling  (None, 5, 5, 32)         0         \n",
      " 2D)                                                             \n",
      "                                                                 \n",
      " flatten_1 (Flatten)         (None, 800)               0         \n",
      "                                                                 \n",
      " dropout_1 (Dropout)         (None, 800)               0         \n",
      "                                                                 \n",
      " dense_2 (Dense)             (None, 256)               205056    \n",
      "                                                                 \n",
      " dense_3 (Dense)             (None, 10)                2570      \n",
      "                                                                 \n",
      "=================================================================\n",
      "Total params: 217,194\n",
      "Trainable params: 217,194\n",
      "Non-trainable params: 0\n",
      "_________________________________________________________________\n"
     ]
    }
   ],
   "source": [
    "from tensorflow.keras.models import Sequential\n",
    "from tensorflow.keras.layers import Dense, Conv2D, Flatten, MaxPooling2D, Dropout\n",
    "from tensorflow.keras.optimizers import Adam\n",
    "\n",
    "def CNN_model(learning_rate=0.001, drop_rate=0.5, kernels=[32, 32]):\n",
    "    adam = Adam(learning_rate=learning_rate)\n",
    "\n",
    "    model = Sequential(name=\"CNN_model\")\n",
    "\n",
    "    for number_kernel in kernels:\n",
    "        conv_layer = Conv2D(\n",
    "            number_kernel,\n",
    "            kernel_size=(3, 3),\n",
    "            activation=\"relu\",\n",
    "            kernel_initializer=\"he_normal\",\n",
    "            input_shape=X_train.shape[1:],\n",
    "        )\n",
    "\n",
    "        model.add(conv_layer)\n",
    "        # defaults to pool_size if None\n",
    "        model.add(MaxPooling2D(pool_size=(2, 2), strides = 2))\n",
    "\n",
    "    model.add(Flatten())\n",
    "    model.add(Dropout(drop_rate))\n",
    "    model.add(Dense(256, activation=\"relu\", kernel_initializer=\"he_normal\"))\n",
    "    model.add(Dense(10, activation=\"softmax\"))\n",
    "\n",
    "    model.compile(\n",
    "        loss=\"sparse_categorical_crossentropy\", optimizer=adam, metrics=[\"acc\"]\n",
    "    )\n",
    "\n",
    "    return model\n",
    "\n",
    "model = CNN_model(drop_rate=.5)\n",
    "\n",
    "model.summary()\n"
   ]
  },
  {
   "cell_type": "markdown",
   "metadata": {},
   "source": [
    "## Train on augmented data\n",
    "\n",
    " - steps_per_epoch is the number of times we generate our data from the generator\n",
    " - since we have batches on 32 samples for each time we generate, we could count how many samples before we cover original data size\n",
    " - 50000/32 = "
   ]
  },
  {
   "cell_type": "code",
   "execution_count": 74,
   "metadata": {},
   "outputs": [
    {
     "data": {
      "text/plain": [
       "312.5"
      ]
     },
     "execution_count": 74,
     "metadata": {},
     "output_type": "execute_result"
    }
   ],
   "source": [
    "steps_per_epochs = len(X_train_val)/32\n",
    "validation_steps = len(X_val)/32\n"
   ]
  },
  {
   "cell_type": "code",
   "execution_count": 75,
   "metadata": {},
   "outputs": [
    {
     "name": "stdout",
     "output_type": "stream",
     "text": [
      "Epoch 1/100\n",
      "1500/1500 [==============================] - 27s 17ms/step - loss: 0.6361 - acc: 0.7896 - val_loss: 0.1461 - val_acc: 0.9545\n",
      "Epoch 2/100\n",
      "1500/1500 [==============================] - 27s 18ms/step - loss: 0.2832 - acc: 0.9096 - val_loss: 0.0749 - val_acc: 0.9767\n",
      "Epoch 3/100\n",
      "1500/1500 [==============================] - 28s 19ms/step - loss: 0.2269 - acc: 0.9279 - val_loss: 0.0858 - val_acc: 0.9734\n",
      "Epoch 4/100\n",
      "1500/1500 [==============================] - 30s 20ms/step - loss: 0.1895 - acc: 0.9407 - val_loss: 0.0642 - val_acc: 0.9801\n",
      "Epoch 5/100\n",
      "1500/1500 [==============================] - 28s 19ms/step - loss: 0.1759 - acc: 0.9442 - val_loss: 0.0494 - val_acc: 0.9843\n",
      "Epoch 6/100\n",
      "1500/1500 [==============================] - 27s 18ms/step - loss: 0.1615 - acc: 0.9494 - val_loss: 0.0455 - val_acc: 0.9861\n",
      "Epoch 7/100\n",
      "1500/1500 [==============================] - 28s 19ms/step - loss: 0.1499 - acc: 0.9521 - val_loss: 0.0542 - val_acc: 0.9841\n",
      "Epoch 8/100\n",
      "1500/1500 [==============================] - 25s 17ms/step - loss: 0.1430 - acc: 0.9550 - val_loss: 0.0521 - val_acc: 0.9840\n",
      "Epoch 9/100\n",
      "1500/1500 [==============================] - 26s 17ms/step - loss: 0.1356 - acc: 0.9577 - val_loss: 0.0426 - val_acc: 0.9870\n",
      "Epoch 10/100\n",
      "1500/1500 [==============================] - 27s 18ms/step - loss: 0.1322 - acc: 0.9594 - val_loss: 0.0431 - val_acc: 0.9872\n",
      "Epoch 11/100\n",
      "1500/1500 [==============================] - 26s 17ms/step - loss: 0.1277 - acc: 0.9604 - val_loss: 0.0459 - val_acc: 0.9848\n",
      "Epoch 12/100\n",
      "1500/1500 [==============================] - 26s 17ms/step - loss: 0.1234 - acc: 0.9613 - val_loss: 0.0378 - val_acc: 0.9882\n",
      "Epoch 13/100\n",
      "1500/1500 [==============================] - 26s 17ms/step - loss: 0.1198 - acc: 0.9623 - val_loss: 0.0310 - val_acc: 0.9905\n",
      "Epoch 14/100\n",
      "1500/1500 [==============================] - 26s 17ms/step - loss: 0.1151 - acc: 0.9640 - val_loss: 0.0458 - val_acc: 0.9858\n",
      "Epoch 15/100\n",
      "1500/1500 [==============================] - 26s 17ms/step - loss: 0.1132 - acc: 0.9653 - val_loss: 0.0371 - val_acc: 0.9892\n",
      "Epoch 16/100\n",
      "1500/1500 [==============================] - 26s 17ms/step - loss: 0.1113 - acc: 0.9648 - val_loss: 0.0346 - val_acc: 0.9901\n",
      "Epoch 17/100\n",
      "1500/1500 [==============================] - 26s 17ms/step - loss: 0.1078 - acc: 0.9672 - val_loss: 0.0355 - val_acc: 0.9895\n",
      "Epoch 18/100\n",
      "1500/1500 [==============================] - 26s 17ms/step - loss: 0.1074 - acc: 0.9670 - val_loss: 0.0435 - val_acc: 0.9867\n"
     ]
    },
    {
     "data": {
      "text/plain": [
       "<keras.callbacks.History at 0x13d35f5e0>"
      ]
     },
     "execution_count": 75,
     "metadata": {},
     "output_type": "execute_result"
    }
   ],
   "source": [
    "from tensorflow.keras.callbacks import EarlyStopping\n",
    "\n",
    "early_stopper = EarlyStopping(\n",
    "    monitor=\"val_acc\", mode=\"max\", patience=5, restore_best_weights=True\n",
    ")\n",
    "\n",
    "model.fit(\n",
    "    train_val_generator,\n",
    "    steps_per_epoch=1500,\n",
    "    epochs=100,\n",
    "    callbacks=[early_stopper],\n",
    "    validation_data=val_generator,\n",
    "    validation_steps=312,\n",
    ")\n"
   ]
  },
  {
   "cell_type": "code",
   "execution_count": 76,
   "metadata": {},
   "outputs": [
    {
     "data": {
      "text/html": [
       "<div>\n",
       "<style scoped>\n",
       "    .dataframe tbody tr th:only-of-type {\n",
       "        vertical-align: middle;\n",
       "    }\n",
       "\n",
       "    .dataframe tbody tr th {\n",
       "        vertical-align: top;\n",
       "    }\n",
       "\n",
       "    .dataframe thead th {\n",
       "        text-align: right;\n",
       "    }\n",
       "</style>\n",
       "<table border=\"1\" class=\"dataframe\">\n",
       "  <thead>\n",
       "    <tr style=\"text-align: right;\">\n",
       "      <th></th>\n",
       "      <th>loss</th>\n",
       "      <th>acc</th>\n",
       "      <th>val_loss</th>\n",
       "      <th>val_acc</th>\n",
       "    </tr>\n",
       "  </thead>\n",
       "  <tbody>\n",
       "    <tr>\n",
       "      <th>0</th>\n",
       "      <td>0.636094</td>\n",
       "      <td>0.789617</td>\n",
       "      <td>0.146052</td>\n",
       "      <td>0.954527</td>\n",
       "    </tr>\n",
       "    <tr>\n",
       "      <th>1</th>\n",
       "      <td>0.283237</td>\n",
       "      <td>0.909553</td>\n",
       "      <td>0.074941</td>\n",
       "      <td>0.976663</td>\n",
       "    </tr>\n",
       "    <tr>\n",
       "      <th>2</th>\n",
       "      <td>0.226887</td>\n",
       "      <td>0.927872</td>\n",
       "      <td>0.085836</td>\n",
       "      <td>0.973357</td>\n",
       "    </tr>\n",
       "    <tr>\n",
       "      <th>3</th>\n",
       "      <td>0.189543</td>\n",
       "      <td>0.940709</td>\n",
       "      <td>0.064238</td>\n",
       "      <td>0.980068</td>\n",
       "    </tr>\n",
       "    <tr>\n",
       "      <th>4</th>\n",
       "      <td>0.175880</td>\n",
       "      <td>0.944229</td>\n",
       "      <td>0.049433</td>\n",
       "      <td>0.984275</td>\n",
       "    </tr>\n",
       "  </tbody>\n",
       "</table>\n",
       "</div>"
      ],
      "text/plain": [
       "       loss       acc  val_loss   val_acc\n",
       "0  0.636094  0.789617  0.146052  0.954527\n",
       "1  0.283237  0.909553  0.074941  0.976663\n",
       "2  0.226887  0.927872  0.085836  0.973357\n",
       "3  0.189543  0.940709  0.064238  0.980068\n",
       "4  0.175880  0.944229  0.049433  0.984275"
      ]
     },
     "execution_count": 76,
     "metadata": {},
     "output_type": "execute_result"
    }
   ],
   "source": [
    "metrics = pd.DataFrame(model.history.history)\n",
    "metrics.head()"
   ]
  },
  {
   "cell_type": "code",
   "execution_count": 77,
   "metadata": {},
   "outputs": [
    {
     "data": {
      "image/png": "[encoded data removed]",
      "text/plain": [
       "<Figure size 864x288 with 2 Axes>"
      ]
     },
     "metadata": {},
     "output_type": "display_data"
    }
   ],
   "source": [
    "def plot_metrics(metrics):\n",
    "    _, ax = plt.subplots(1,2, figsize = (12,4))\n",
    "    metrics[[\"loss\", \"val_loss\"]].plot(ax = ax[0], title = \"Loss\", grid = True)\n",
    "    metrics[[\"acc\", \"val_acc\"]].plot(ax = ax[1], title = \"Accuracy\", grid = True)\n",
    "\n",
    "plot_metrics(metrics)\n",
    "# val accuracy is higher than train accuracy, probably due to train data being\n",
    "# augmented, which gives a lot of varieties in data and is harder to overfit"
   ]
  },
  {
   "cell_type": "markdown",
   "metadata": {},
   "source": [
    "---\n",
    "## Train on all training data"
   ]
  },
  {
   "cell_type": "code",
   "execution_count": 80,
   "metadata": {},
   "outputs": [
    {
     "name": "stdout",
     "output_type": "stream",
     "text": [
      "Epoch 1/18\n",
      "1500/1500 [==============================] - 27s 17ms/step - loss: 0.6498 - acc: 0.7859\n",
      "Epoch 2/18\n",
      "1500/1500 [==============================] - 27s 18ms/step - loss: 0.2829 - acc: 0.9102\n",
      "Epoch 3/18\n",
      "1500/1500 [==============================] - 28s 19ms/step - loss: 0.2235 - acc: 0.9300\n",
      "Epoch 4/18\n",
      "1500/1500 [==============================] - 28s 19ms/step - loss: 0.1868 - acc: 0.9409\n",
      "Epoch 5/18\n",
      "1500/1500 [==============================] - 25s 17ms/step - loss: 0.1696 - acc: 0.9470\n",
      "Epoch 6/18\n",
      "1500/1500 [==============================] - 25s 17ms/step - loss: 0.1613 - acc: 0.9486\n",
      "Epoch 7/18\n",
      "1500/1500 [==============================] - 25s 17ms/step - loss: 0.1492 - acc: 0.9532\n",
      "Epoch 8/18\n",
      "1500/1500 [==============================] - 25s 17ms/step - loss: 0.1451 - acc: 0.9549\n",
      "Epoch 9/18\n",
      "1500/1500 [==============================] - 25s 17ms/step - loss: 0.1308 - acc: 0.9594\n",
      "Epoch 10/18\n",
      "1500/1500 [==============================] - 25s 17ms/step - loss: 0.1302 - acc: 0.9595\n",
      "Epoch 11/18\n",
      "1500/1500 [==============================] - 26s 17ms/step - loss: 0.1260 - acc: 0.9614\n",
      "Epoch 12/18\n",
      "1500/1500 [==============================] - 26s 17ms/step - loss: 0.1203 - acc: 0.9625\n",
      "Epoch 13/18\n",
      "1500/1500 [==============================] - 26s 17ms/step - loss: 0.1226 - acc: 0.9623\n",
      "Epoch 14/18\n",
      "1500/1500 [==============================] - 26s 17ms/step - loss: 0.1116 - acc: 0.9648\n",
      "Epoch 15/18\n",
      "1500/1500 [==============================] - 26s 17ms/step - loss: 0.1127 - acc: 0.9647\n",
      "Epoch 16/18\n",
      "1500/1500 [==============================] - 26s 17ms/step - loss: 0.1119 - acc: 0.9655\n",
      "Epoch 17/18\n",
      "1500/1500 [==============================] - 26s 17ms/step - loss: 0.1068 - acc: 0.9679\n",
      "Epoch 18/18\n",
      "1500/1500 [==============================] - 26s 17ms/step - loss: 0.1086 - acc: 0.9665\n"
     ]
    },
    {
     "data": {
      "text/plain": [
       "<keras.callbacks.History at 0x13e517d30>"
      ]
     },
     "execution_count": 80,
     "metadata": {},
     "output_type": "execute_result"
    }
   ],
   "source": [
    "model = CNN_model()\n",
    "model.fit(\n",
    "    train_generator,\n",
    "    steps_per_epoch=1500,\n",
    "    epochs=18,\n",
    ")\n"
   ]
  },
  {
   "cell_type": "code",
   "execution_count": 81,
   "metadata": {},
   "outputs": [
    {
     "name": "stdout",
     "output_type": "stream",
     "text": [
      "              precision    recall  f1-score   support\n",
      "\n",
      "           0       1.00      0.99      0.99       980\n",
      "           1       1.00      0.99      1.00      1135\n",
      "           2       0.99      0.99      0.99      1032\n",
      "           3       0.98      1.00      0.99      1010\n",
      "           4       0.99      1.00      0.99       982\n",
      "           5       0.99      0.99      0.99       892\n",
      "           6       0.99      1.00      0.99       958\n",
      "           7       0.99      0.99      0.99      1028\n",
      "           8       0.99      0.99      0.99       974\n",
      "           9       0.99      0.97      0.98      1009\n",
      "\n",
      "    accuracy                           0.99     10000\n",
      "   macro avg       0.99      0.99      0.99     10000\n",
      "weighted avg       0.99      0.99      0.99     10000\n",
      "\n"
     ]
    },
    {
     "data": {
      "text/plain": [
       "<sklearn.metrics._plot.confusion_matrix.ConfusionMatrixDisplay at 0x13db739d0>"
      ]
     },
     "execution_count": 81,
     "metadata": {},
     "output_type": "execute_result"
    },
    {
     "data": {
      "image/png": "[encoded data removed]",
      "text/plain": [
       "<Figure size 432x288 with 2 Axes>"
      ]
     },
     "metadata": {},
     "output_type": "display_data"
    }
   ],
   "source": [
    "from sklearn.metrics import (\n",
    "    classification_report,\n",
    "    confusion_matrix,\n",
    "    ConfusionMatrixDisplay,\n",
    ")\n",
    "\n",
    "y_pred = model.predict(X_test)\n",
    "#y_pred = np.argmax(y_pred)\n",
    "\n",
    "y_pred = np.argmax(y_pred, axis = 1)\n",
    "\n",
    "\n",
    "print(classification_report(y_test, y_pred))\n",
    "\n",
    "cm = confusion_matrix(y_test, y_pred)\n",
    "ConfusionMatrixDisplay(cm).plot()"
   ]
  }
 ],
 "metadata": {
  "interpreter": {
   "hash": "99284c818dbeb598aa1f68004bbb0b5edd120a68b4d8720a3a3dd099e220abe1"
  },
  "kernelspec": {
   "display_name": "Python 3.9.9 ('ML_exploration-5IpxFwVQ')",
   "language": "python",
   "name": "python3"
  },
  "language_info": {
   "codemirror_mode": {
    "name": "ipython",
    "version": 3
   },
   "file_extension": ".py",
   "mimetype": "text/x-python",
   "name": "python",
   "nbconvert_exporter": "python",
   "pygments_lexer": "ipython3",
   "version": "3.9.6"
  },
  "orig_nbformat": 4
 },
 "nbformat": 4,
 "nbformat_minor": 2
}
