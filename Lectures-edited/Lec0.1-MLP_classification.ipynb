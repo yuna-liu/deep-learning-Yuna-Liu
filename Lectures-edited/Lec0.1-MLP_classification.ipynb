{
 "cells": [
  {
   "cell_type": "markdown",
   "metadata": {},
   "source": [
    "<a href=\"https://colab.research.google.com/github/kokchun/Deep-learning-AI21/blob/main/Lectures/Lec0.1-MLP_classification.ipynb\" target=\"_parent\"><img align=\"left\" src=\"https://colab.research.google.com/assets/colab-badge.svg\" alt=\"Open In Colab\"/></a> &nbsp; for interacting with the code\n"
   ]
  },
  {
   "cell_type": "markdown",
   "metadata": {},
   "source": [
    "---\n",
    "# Lecture notes - Multilayered perceptron (MLP) for classification\n",
    "---\n",
    "\n",
    "This is the lecture note for **MLP** and its use in classification task.\n",
    "\n",
    "<p class = \"alert alert-info\" role=\"alert\"><b>Note</b> that this lecture note gives a brief introduction to MLP. I encourage you to read further about MLP. </p>\n",
    "\n",
    "Read more:\n",
    "\n",
    "- [How many nodes and layers? - DigitalSreeni](https://www.youtube.com/watch?v=bqBRET7tbiQ)\n",
    "- [Adam optimizer - wikipedia](https://en.wikipedia.org/wiki/Stochastic_gradient_descent#Adam)\n",
    "- [Cross-entropy - wikipedia](https://en.wikipedia.org/wiki/Cross_entropy)\n",
    "- [Cross-entropy - machinelearningmastery](https://machinelearningmastery.com/cross-entropy-for-machine-learning/)\n",
    "- [None in model - stackoverflow](https://stackoverflow.com/questions/47240348/what-is-the-meaning-of-the-none-in-model-summary-of-keras)\n",
    "- [EarlyStopping - Keras](https://keras.io/api/callbacks/early_stopping/)\n",
    "- [Adam optimization algorithm - Andrew Ng](https://www.youtube.com/watch?v=JXQT_vxqwIs)\n",
    "---"
   ]
  },
  {
   "cell_type": "code",
   "execution_count": 1,
   "metadata": {},
   "outputs": [
    {
     "name": "stdout",
     "output_type": "stream",
     "text": [
      "False\n",
      "(569, 30) (569,)\n"
     ]
    }
   ],
   "source": [
    "import matplotlib.pyplot as plt\n",
    "import numpy as np\n",
    "from sklearn.datasets import load_breast_cancer\n",
    "\n",
    "plt.style.use(\"seaborn-white\")\n",
    "raw_data = load_breast_cancer()\n",
    "X, y = raw_data.data, raw_data.target\n",
    "\n",
    "# skipping the EDA for this dataset, as we have already worked with it before\n",
    "# just checking if there is any null values and sizes\n",
    "print(np.isnan(X).any())\n",
    "print(X.shape, y.shape)"
   ]
  },
  {
   "cell_type": "markdown",
   "metadata": {},
   "source": [
    "---\n",
    "## Train|val|test split and scaling\n",
    "\n",
    "Note that for this dataset, as it is small be smart to use $k$-fold cross-validation for hyperparameter tuning, but I go with train|val|test split for simplicity of the lecture"
   ]
  },
  {
   "cell_type": "code",
   "execution_count": 2,
   "metadata": {},
   "outputs": [
    {
     "name": "stdout",
     "output_type": "stream",
     "text": [
      "X_train, X_val, X_test\n"
     ]
    },
    {
     "data": {
      "text/plain": [
       "((410, 30), (73, 30), (86, 30))"
      ]
     },
     "execution_count": 2,
     "metadata": {},
     "output_type": "execute_result"
    }
   ],
   "source": [
    "from sklearn.preprocessing import StandardScaler\n",
    "from sklearn.model_selection import train_test_split\n",
    "\n",
    "# note that scaling is very important for gradient descent to properly work\n",
    "scaler = StandardScaler()\n",
    "\n",
    "X_train, X_test, y_train, y_test = train_test_split(X, y, test_size=0.15, random_state=42)\n",
    "X_train_val, X_val, y_train_val, y_val = train_test_split(X_train, y_train, test_size=0.15, random_state=42)\n",
    "\n",
    "# note no data leakage\n",
    "scaled_X_train_val = scaler.fit_transform(X_train_val)\n",
    "scaled_X_val = scaler.transform(X_val)\n",
    "scaled_X_test = scaler.transform(X_test)\n",
    "\n",
    "# note that this one will be used in the end and thus can use all training data for scaling\n",
    "scaled_X_train = scaler.fit_transform(X_train)\n",
    "\n",
    "print(\"X_train, X_val, X_test\")\n",
    "scaled_X_train_val.shape, scaled_X_val.shape, scaled_X_test.shape"
   ]
  },
  {
   "cell_type": "markdown",
   "metadata": {},
   "source": [
    "--- \n",
    "## MLP network\n",
    "\n",
    "An multilayered perceptron (MLP) network is deep, if it has ≥2 hidden layers. It is a feedforward network, which means that the input is going forward into next layer, which is moving forward to its next layer and so on until we get an output. Basically one hidden layer is enough for a network to approximate any continous function by carving up the input space with many linear functions. However by adding more hidden layers we get function compositions, i.e. functions of other functions, which easier can represent more advanced structures of the data.\n",
    "\n",
    "Unfortunately there is no mathematical formula that tells us how many nodes and hidden layers to use. In short, the best we can do is by trial and error. There are however some methods for building networks, as we can test on validation data: \n",
    "\n",
    "- grow a network from nothing, slowly adding nodes and layers\n",
    "- pruning - start from a large network and remove nodes and layers\n",
    "- global search - use a genetic algorithm to test out several network configurations\n",
    "- regularization - keep the network small by constraining the magnitude of the weights  \n",
    "- early stopping - the more the network trains the better it gets at fitting the training data, so we can stop it before it starts to overfit \n",
    "\n",
    "The idea is to have a network that is complex enough to fit the training data and not too complex such that it overfits it and generalizes badly within its coverage regions. \n",
    "\n",
    "---\n",
    "### Binary cross-entropy loss function \n",
    "\n",
    "The loss function we will use for the binary classification problem is the binary cross-entropy. This loss function $\\mathcal{L}$ is basically a measure of how different two probability distributions are from each other for a random variable. As we can view the response (target) variable $y$ and the predicted variable $\\hat{y}$ as a probability distributions, we can see how different they are from each other and penalize this difference in gradient descent. \n",
    "\n",
    "$$\\mathcal{L} = -\\frac{1}{n}\\sum_{i = 1}^n{y_i\\ln{\\hat{y}_i}} + (1-y_i)\\ln{(1-\\hat{y}_i)}$$\n",
    "\n"
   ]
  },
  {
   "cell_type": "code",
   "execution_count": 3,
   "metadata": {},
   "outputs": [
    {
     "name": "stdout",
     "output_type": "stream",
     "text": [
      "Model: \"MLP_initial\"\n",
      "_________________________________________________________________\n",
      " Layer (type)                Output Shape              Param #   \n",
      "=================================================================\n",
      " Hidden_layer1 (Dense)       (None, 30)                930       \n",
      "                                                                 \n",
      " Hidden_layer2 (Dense)       (None, 30)                930       \n",
      "                                                                 \n",
      " Output_layer (Dense)        (None, 1)                 31        \n",
      "                                                                 \n",
      "=================================================================\n",
      "Total params: 1,891\n",
      "Trainable params: 1,891\n",
      "Non-trainable params: 0\n",
      "_________________________________________________________________\n"
     ]
    },
    {
     "name": "stderr",
     "output_type": "stream",
     "text": [
      "2022-04-13 16:14:53.036632: I tensorflow/core/platform/cpu_feature_guard.cc:151] This TensorFlow binary is optimized with oneAPI Deep Neural Network Library (oneDNN) to use the following CPU instructions in performance-critical operations:  AVX2 FMA\n",
      "To enable them in other operations, rebuild TensorFlow with the appropriate compiler flags.\n"
     ]
    }
   ],
   "source": [
    "from tensorflow.keras import Sequential\n",
    "from tensorflow.keras.layers import InputLayer, Dense\n",
    "\n",
    "def MLP_model():\n",
    "    model = Sequential(name = \"MLP_initial\")\n",
    "    model.add(InputLayer(X.shape[1], name = \"Input_layer\"))\n",
    "    model.add(Dense(30, name = \"Hidden_layer1\", activation=\"relu\"))\n",
    "    model.add(Dense(30, name = \"Hidden_layer2\", activation=\"relu\"))\n",
    "    # binary cross-entropy \n",
    "    model.add(Dense(1, name = \"Output_layer\", activation=\"sigmoid\"))\n",
    "\n",
    "    # adam is a type of stochastic gradient descent\n",
    "    model.compile(loss =\"binary_crossentropy\", optimizer=\"adam\")\n",
    "\n",
    "    return model\n",
    "\n",
    "model = MLP_model()\n",
    "# the output shape None means the batch size and is automatically defined in fit or predict\n",
    "# number of trainable params  (30+1)*30 + (30+1)*30+31 = 1891\n",
    "model.summary()"
   ]
  },
  {
   "cell_type": "code",
   "execution_count": 4,
   "metadata": {},
   "outputs": [
    {
     "data": {
      "text/plain": [
       "<keras.callbacks.History at 0x12fca4a90>"
      ]
     },
     "execution_count": 4,
     "metadata": {},
     "output_type": "execute_result"
    }
   ],
   "source": [
    "# we train it very long to observe overfitting\n",
    "model.fit(scaled_X_train_val, y_train_val, epochs = 1000, validation_data=(scaled_X_val, y_val), verbose = 0)"
   ]
  },
  {
   "cell_type": "code",
   "execution_count": 5,
   "metadata": {},
   "outputs": [
    {
     "data": {
      "text/plain": [
       "<AxesSubplot:title={'center':'Training and validation loss'}, xlabel='Epochs', ylabel='Cross-entropy loss'>"
      ]
     },
     "execution_count": 5,
     "metadata": {},
     "output_type": "execute_result"
    },
    {
     "data": {
      "image/png": "[encoded data removed]",
      "text/plain": [
       "<Figure size 432x288 with 1 Axes>"
      ]
     },
     "metadata": {},
     "output_type": "display_data"
    }
   ],
   "source": [
    "import pandas as pd\n",
    "pd.DataFrame(model.history.history).plot(xlabel=\"Epochs\",\n",
    "                                         ylabel=\"Cross-entropy loss\", title=\"Training and validation loss\")\n",
    "# clearly see overfitting here as the validation loss increases, while training loss decreases\n",
    "# this means the model can't generalize to data it hasn't seen\n",
    "# actually our model seems to overfit very early, indicating that we need to have a less complex model"
   ]
  },
  {
   "cell_type": "markdown",
   "metadata": {},
   "source": [
    "---\n",
    "## Early stopping\n",
    "\n",
    "We can simple choose to stop the model before the validation loss increases. This is basically a free lunch."
   ]
  },
  {
   "cell_type": "code",
   "execution_count": 6,
   "metadata": {},
   "outputs": [
    {
     "name": "stdout",
     "output_type": "stream",
     "text": [
      "Epoch 1/1000\n",
      "13/13 [==============================] - 1s 24ms/step - loss: 0.5743 - val_loss: 0.4603\n",
      "Epoch 2/1000\n",
      "13/13 [==============================] - 0s 3ms/step - loss: 0.4133 - val_loss: 0.3537\n",
      "Epoch 3/1000\n",
      "13/13 [==============================] - 0s 3ms/step - loss: 0.3112 - val_loss: 0.2772\n",
      "Epoch 4/1000\n",
      "13/13 [==============================] - 0s 3ms/step - loss: 0.2424 - val_loss: 0.2225\n",
      "Epoch 5/1000\n",
      "13/13 [==============================] - 0s 3ms/step - loss: 0.1969 - val_loss: 0.1853\n",
      "Epoch 6/1000\n",
      "13/13 [==============================] - 0s 3ms/step - loss: 0.1633 - val_loss: 0.1578\n",
      "Epoch 7/1000\n",
      "13/13 [==============================] - 0s 3ms/step - loss: 0.1402 - val_loss: 0.1382\n",
      "Epoch 8/1000\n",
      "13/13 [==============================] - 0s 3ms/step - loss: 0.1229 - val_loss: 0.1225\n",
      "Epoch 9/1000\n",
      "13/13 [==============================] - 0s 3ms/step - loss: 0.1098 - val_loss: 0.1101\n",
      "Epoch 10/1000\n",
      "13/13 [==============================] - 0s 4ms/step - loss: 0.0984 - val_loss: 0.1019\n",
      "Epoch 11/1000\n",
      "13/13 [==============================] - 0s 3ms/step - loss: 0.0900 - val_loss: 0.0945\n",
      "Epoch 12/1000\n",
      "13/13 [==============================] - 0s 3ms/step - loss: 0.0827 - val_loss: 0.0898\n",
      "Epoch 13/1000\n",
      "13/13 [==============================] - 0s 3ms/step - loss: 0.0768 - val_loss: 0.0855\n",
      "Epoch 14/1000\n",
      "13/13 [==============================] - 0s 3ms/step - loss: 0.0718 - val_loss: 0.0814\n",
      "Epoch 15/1000\n",
      "13/13 [==============================] - 0s 3ms/step - loss: 0.0675 - val_loss: 0.0767\n",
      "Epoch 16/1000\n",
      "13/13 [==============================] - 0s 3ms/step - loss: 0.0636 - val_loss: 0.0754\n",
      "Epoch 17/1000\n",
      "13/13 [==============================] - 0s 3ms/step - loss: 0.0596 - val_loss: 0.0748\n",
      "Epoch 18/1000\n",
      "13/13 [==============================] - 0s 3ms/step - loss: 0.0569 - val_loss: 0.0743\n",
      "Epoch 19/1000\n",
      "13/13 [==============================] - 0s 3ms/step - loss: 0.0537 - val_loss: 0.0721\n",
      "Epoch 20/1000\n",
      "13/13 [==============================] - 0s 3ms/step - loss: 0.0511 - val_loss: 0.0705\n",
      "Epoch 21/1000\n",
      "13/13 [==============================] - 0s 3ms/step - loss: 0.0484 - val_loss: 0.0700\n",
      "Epoch 22/1000\n",
      "13/13 [==============================] - 0s 3ms/step - loss: 0.0461 - val_loss: 0.0695\n",
      "Epoch 23/1000\n",
      "13/13 [==============================] - 0s 3ms/step - loss: 0.0439 - val_loss: 0.0700\n",
      "Epoch 24/1000\n",
      "13/13 [==============================] - 0s 3ms/step - loss: 0.0423 - val_loss: 0.0679\n",
      "Epoch 25/1000\n",
      "13/13 [==============================] - 0s 3ms/step - loss: 0.0397 - val_loss: 0.0700\n",
      "Epoch 26/1000\n",
      "13/13 [==============================] - 0s 3ms/step - loss: 0.0375 - val_loss: 0.0671\n",
      "Epoch 27/1000\n",
      "13/13 [==============================] - 0s 3ms/step - loss: 0.0354 - val_loss: 0.0663\n",
      "Epoch 28/1000\n",
      "13/13 [==============================] - 0s 3ms/step - loss: 0.0338 - val_loss: 0.0674\n",
      "Epoch 29/1000\n",
      "13/13 [==============================] - 0s 3ms/step - loss: 0.0322 - val_loss: 0.0665\n",
      "Epoch 30/1000\n",
      "13/13 [==============================] - 0s 3ms/step - loss: 0.0300 - val_loss: 0.0691\n",
      "Epoch 31/1000\n",
      "13/13 [==============================] - 0s 3ms/step - loss: 0.0284 - val_loss: 0.0691\n",
      "Epoch 32/1000\n",
      "13/13 [==============================] - 0s 3ms/step - loss: 0.0272 - val_loss: 0.0674\n",
      "Epoch 33/1000\n",
      "13/13 [==============================] - 0s 3ms/step - loss: 0.0258 - val_loss: 0.0697\n",
      "Epoch 34/1000\n",
      "13/13 [==============================] - 0s 3ms/step - loss: 0.0238 - val_loss: 0.0675\n",
      "Epoch 35/1000\n",
      "13/13 [==============================] - 0s 3ms/step - loss: 0.0229 - val_loss: 0.0681\n",
      "Epoch 36/1000\n",
      "13/13 [==============================] - 0s 3ms/step - loss: 0.0215 - val_loss: 0.0706\n",
      "Epoch 37/1000\n",
      "13/13 [==============================] - 0s 3ms/step - loss: 0.0200 - val_loss: 0.0691\n",
      "Epoch 38/1000\n",
      "13/13 [==============================] - 0s 3ms/step - loss: 0.0190 - val_loss: 0.0697\n",
      "Epoch 39/1000\n",
      "13/13 [==============================] - 0s 3ms/step - loss: 0.0176 - val_loss: 0.0725\n",
      "Epoch 40/1000\n",
      "13/13 [==============================] - 0s 3ms/step - loss: 0.0170 - val_loss: 0.0749\n",
      "Epoch 41/1000\n",
      "13/13 [==============================] - 0s 3ms/step - loss: 0.0159 - val_loss: 0.0736\n",
      "Epoch 42/1000\n",
      "13/13 [==============================] - 0s 3ms/step - loss: 0.0148 - val_loss: 0.0723\n"
     ]
    },
    {
     "data": {
      "text/plain": [
       "<keras.callbacks.History at 0x130604e20>"
      ]
     },
     "execution_count": 6,
     "metadata": {},
     "output_type": "execute_result"
    }
   ],
   "source": [
    "from tensorflow.keras.callbacks import EarlyStopping\n",
    "\n",
    "# don't stop immediately -> stop after 15\n",
    "# min mode -> stop when quantity monitored stopped decreasing\n",
    "early_stopper = EarlyStopping(monitor=\"val_loss\", mode=\"min\", patience=15)\n",
    "\n",
    "# note that we have to redefine the model, else it will continue training on the previous model\n",
    "model = MLP_model()\n",
    "\n",
    "# note that the callbacks accept a list of callback functions that will run during the training\n",
    "model.fit(scaled_X_train_val, y_train_val, epochs=1000,\n",
    "          validation_data=[scaled_X_val, y_val], callbacks=[early_stopper], verbose=1)\n"
   ]
  },
  {
   "cell_type": "code",
   "execution_count": 10,
   "metadata": {},
   "outputs": [
    {
     "data": {
      "image/png": "[encoded data removed]",
      "text/plain": [
       "<Figure size 432x288 with 1 Axes>"
      ]
     },
     "metadata": {},
     "output_type": "display_data"
    }
   ],
   "source": [
    "# this is much better\n",
    "df_loss = pd.DataFrame(model.history.history)\n",
    "df_loss.plot(xlabel=\"Epochs\",\n",
    "             ylabel=\"Crossentropy loss\", title=\"Loss with early stopping\");\n",
    "\n",
    "# To improve on this we should simplify the network more to get validation loss closer to training loss.\n",
    "# I will let you explore this yourself\n"
   ]
  },
  {
   "cell_type": "markdown",
   "metadata": {},
   "source": [
    "---\n",
    "## Prediction and evaluation\n",
    "\n",
    "- note that we changed the number of epochs, which is a hyperparameter tuning\n",
    "- we did this on the validation data which is okay, we don't have data leakage\n",
    "- before prediction we will utilize all training data, i.e. training and evaluation\n",
    "- then predict on test data"
   ]
  },
  {
   "cell_type": "code",
   "execution_count": 37,
   "metadata": {},
   "outputs": [
    {
     "name": "stdout",
     "output_type": "stream",
     "text": [
      "(483, 30) (483,) (483, 1)\n",
      "[[9.6561253e-01]\n",
      " [1.9939796e-05]\n",
      " [1.3467371e-03]]\n",
      "              precision    recall  f1-score   support\n",
      "\n",
      "           0       1.00      0.94      0.97        32\n",
      "           1       0.96      1.00      0.98        54\n",
      "\n",
      "    accuracy                           0.98        86\n",
      "   macro avg       0.98      0.97      0.97        86\n",
      "weighted avg       0.98      0.98      0.98        86\n",
      "\n"
     ]
    },
    {
     "data": {
      "image/png": "[encoded data removed]",
      "text/plain": [
       "<Figure size 432x288 with 2 Axes>"
      ]
     },
     "metadata": {},
     "output_type": "display_data"
    }
   ],
   "source": [
    "from sklearn.metrics import classification_report, confusion_matrix, ConfusionMatrixDisplay\n",
    "model = MLP_model()\n",
    "\n",
    "# model fit needs to have same shapes \n",
    "print(scaled_X_train.shape, y_train.shape, y_train[:,None].shape)\n",
    "\n",
    "model.fit(scaled_X_train, y_train[:,None], epochs=len(df_loss),\n",
    "          validation_data=[scaled_X_test, y_test], callbacks=[early_stopper], verbose=0)\n",
    "\n",
    "final_loss = pd.DataFrame(model.history.history)\n",
    "\n",
    "y_pred = model.predict(scaled_X_test)\n",
    "print(y_pred[:3]) # probabilities due to sigmoid activation function\n",
    "\n",
    "y_pred = np.round(y_pred)\n",
    "\n",
    "cm = confusion_matrix(y_test, y_pred)\n",
    "ConfusionMatrixDisplay(cm).plot()\n",
    "print(classification_report(y_test, y_pred))"
   ]
  }
 ],
 "metadata": {
  "interpreter": {
   "hash": "99284c818dbeb598aa1f68004bbb0b5edd120a68b4d8720a3a3dd099e220abe1"
  },
  "kernelspec": {
   "display_name": "Python 3.9.9 ('ML_exploration-5IpxFwVQ')",
   "language": "python",
   "name": "python3"
  },
  "language_info": {
   "codemirror_mode": {
    "name": "ipython",
    "version": 3
   },
   "file_extension": ".py",
   "mimetype": "text/x-python",
   "name": "python",
   "nbconvert_exporter": "python",
   "pygments_lexer": "ipython3",
   "version": "3.9.9"
  },
  "orig_nbformat": 4
 },
 "nbformat": 4,
 "nbformat_minor": 2
}
