{
 "cells": [
  {
   "cell_type": "markdown",
   "metadata": {},
   "source": [
    "<a href=\"https://colab.research.google.com/github/kokchun/Deep-learning-AI21/blob/main/Lectures/Lec0.1-MLP_classification.ipynb\" target=\"_parent\"><img align=\"left\" src=\"https://colab.research.google.com/assets/colab-badge.svg\" alt=\"Open In Colab\"/></a> &nbsp; for interacting with the code\n"
   ]
  },
  {
   "cell_type": "markdown",
   "metadata": {},
   "source": [
    "---\n",
    "# Lecture notes - Multilayered perceptron (MLP) for classification\n",
    "---\n",
    "\n",
    "This is the lecture note for **MLP** and its use in classification task.\n",
    "\n",
    "<p class = \"alert alert-info\" role=\"alert\"><b>Note</b> that this lecture note gives a brief introduction to MLP. I encourage you to read further about MLP. </p>\n",
    "\n",
    "Read more:\n",
    "\n",
    "- [How many nodes and layers? - DigitalSreeni](https://www.youtube.com/watch?v=bqBRET7tbiQ)\n",
    "- [Adam optimizer - wikipedia](https://en.wikipedia.org/wiki/Stochastic_gradient_descent#Adam)\n",
    "- [Cross-entropy - wikipedia](https://en.wikipedia.org/wiki/Cross_entropy)\n",
    "- [Cross-entropy - machinelearningmastery](https://machinelearningmastery.com/cross-entropy-for-machine-learning/)\n",
    "- [None in model - stackoverflow](https://stackoverflow.com/questions/47240348/what-is-the-meaning-of-the-none-in-model-summary-of-keras)\n",
    "- [EarlyStopping - Keras](https://keras.io/api/callbacks/early_stopping/)\n",
    "- [Adam optimization algorithm - Andrew Ng](https://www.youtube.com/watch?v=JXQT_vxqwIs)\n",
    "---"
   ]
  },
  {
   "cell_type": "code",
   "execution_count": 2,
   "metadata": {},
   "outputs": [
    {
     "name": "stdout",
     "output_type": "stream",
     "text": [
      "False\n",
      "(569, 30) (569,)\n"
     ]
    }
   ],
   "source": [
    "import matplotlib.pyplot as plt\n",
    "import numpy as np\n",
    "from sklearn.datasets import load_breast_cancer\n",
    "\n",
    "plt.style.use(\"seaborn-white\")\n",
    "raw_data = load_breast_cancer()\n",
    "X, y = raw_data.data, raw_data.target\n",
    "\n",
    "# skipping the EDA for this dataset, as we have already worked with it before\n",
    "# just checking if there is any null values and sizes\n",
    "print(np.isnan(X).any())\n",
    "print(X.shape, y.shape)"
   ]
  },
  {
   "cell_type": "markdown",
   "metadata": {},
   "source": [
    "---\n",
    "## Train|val|test split and scaling\n",
    "\n",
    "Note that for this dataset, as it is small be smart to use $k$-fold cross-validation for hyperparameter tuning, but I go with train|val|test split for simplicity of the lecture"
   ]
  },
  {
   "cell_type": "code",
   "execution_count": 3,
   "metadata": {},
   "outputs": [
    {
     "name": "stdout",
     "output_type": "stream",
     "text": [
      "X_train, X_val, X_test\n"
     ]
    },
    {
     "data": {
      "text/plain": [
       "((410, 30), (73, 30), (86, 30))"
      ]
     },
     "execution_count": 3,
     "metadata": {},
     "output_type": "execute_result"
    }
   ],
   "source": [
    "from sklearn.preprocessing import StandardScaler\n",
    "from sklearn.model_selection import train_test_split\n",
    "\n",
    "# note that scaling is very important for gradient descent to properly work\n",
    "scaler = StandardScaler()\n",
    "\n",
    "X_train, X_test, y_train, y_test = train_test_split(X, y, test_size=0.15, random_state=42)\n",
    "X_train_val, X_val, y_train_val, y_val = train_test_split(X_train, y_train, test_size=0.15, random_state=42)\n",
    "\n",
    "# note no data leakage\n",
    "scaled_X_train_val = scaler.fit_transform(X_train_val)\n",
    "scaled_X_val = scaler.transform(X_val)\n",
    "scaled_X_test = scaler.transform(X_test)\n",
    "\n",
    "# note that this one will be used in the end and thus can use all training data for scaling\n",
    "scaled_X_train = scaler.fit_transform(X_train)\n",
    "\n",
    "print(\"X_train, X_val, X_test\")\n",
    "scaled_X_train_val.shape, scaled_X_val.shape, scaled_X_test.shape"
   ]
  },
  {
   "cell_type": "markdown",
   "metadata": {},
   "source": [
    "--- \n",
    "## MLP network\n",
    "\n",
    "An multilayered perceptron (MLP) network is deep, if it has ≥2 hidden layers. It is a feedforward network, which means that the input is going forward into next layer, which is moving forward to its next layer and so on until we get an output. Basically one hidden layer is enough for a network to approximate any continous function by carving up the input space with many linear functions. However by adding more hidden layers we get function compositions, i.e. functions of other functions, which easier can represent more advanced structures of the data.\n",
    "\n",
    "Unfortunately there is no mathematical formula that tells us how many nodes and hidden layers to use. In short, the best we can do is by trial and error. There are however some methods for building networks, as we can test on validation data: \n",
    "\n",
    "- grow a network from nothing, slowly adding nodes and layers\n",
    "- pruning - start from a large network and remove nodes and layers\n",
    "- global search - use a genetic algorithm to test out several network configurations\n",
    "- regularization - keep the network small by constraining the magnitude of the weights  \n",
    "- early stopping - the more the network trains the better it gets at fitting the training data, so we can stop it before it starts to overfit \n",
    "\n",
    "The idea is to have a network that is complex enough to fit the training data and not too complex such that it overfits it and generalizes badly within its coverage regions. \n",
    "\n",
    "---\n",
    "### Binary cross-entropy loss function \n",
    "\n",
    "The loss function we will use for the binary classification problem is the binary cross-entropy. This loss function $\\mathcal{L}$ is basically a measure of how different two probability distributions are from each other for a random variable. As we can view the response (target) variable $y$ and the predicted variable $\\hat{y}$ as a probability distributions, we can see how different they are from each other and penalize this difference in gradient descent. \n",
    "\n",
    "$$\\mathcal{L} = -\\frac{1}{n}\\sum_{i = 1}^n{y_i\\ln{\\hat{y}_i}} + (1-y_i)\\ln{(1-\\hat{y}_i)}$$\n",
    "\n"
   ]
  },
  {
   "cell_type": "code",
   "execution_count": 4,
   "metadata": {},
   "outputs": [
    {
     "data": {
      "text/plain": [
       "30"
      ]
     },
     "execution_count": 4,
     "metadata": {},
     "output_type": "execute_result"
    }
   ],
   "source": [
    "X.shape[1]"
   ]
  },
  {
   "cell_type": "code",
   "execution_count": 5,
   "metadata": {},
   "outputs": [
    {
     "name": "stdout",
     "output_type": "stream",
     "text": [
      "Model: \"MLP_initial\"\n",
      "_________________________________________________________________\n",
      " Layer (type)                Output Shape              Param #   \n",
      "=================================================================\n",
      " Hidden_layer1 (Dense)       (None, 30)                930       \n",
      "                                                                 \n",
      " Hidden_layer2 (Dense)       (None, 30)                930       \n",
      "                                                                 \n",
      " Output_layer (Dense)        (None, 1)                 31        \n",
      "                                                                 \n",
      "=================================================================\n",
      "Total params: 1,891\n",
      "Trainable params: 1,891\n",
      "Non-trainable params: 0\n",
      "_________________________________________________________________\n"
     ]
    }
   ],
   "source": [
    "from tensorflow.keras import Sequential\n",
    "from tensorflow.keras.layers import InputLayer, Dense\n",
    "\n",
    "def MLP_model():\n",
    "    model = Sequential(name = \"MLP_initial\")\n",
    "    model.add(InputLayer(X.shape[1], name = \"Input_layer\"))\n",
    "    model.add(Dense(30, name = \"Hidden_layer1\", activation=\"relu\"))\n",
    "    model.add(Dense(30, name = \"Hidden_layer2\", activation=\"relu\"))\n",
    "    # binary cross-entropy \n",
    "    model.add(Dense(1, name = \"Output_layer\", activation=\"sigmoid\"))\n",
    "\n",
    "    # adam is a type of stochastic gradient descent\n",
    "    model.compile(loss =\"binary_crossentropy\", optimizer=\"adam\")\n",
    "\n",
    "    return model\n",
    "\n",
    "model = MLP_model()\n",
    "# the output shape None means the batch size and is automatically defined in fit or predict\n",
    "# number of trainable params  (30+1)*30 + (30+1)*30+31 = 1891\n",
    "model.summary()"
   ]
  },
  {
   "cell_type": "code",
   "execution_count": 6,
   "metadata": {},
   "outputs": [
    {
     "data": {
      "text/plain": [
       "<keras.callbacks.History at 0x23ed1d7a1c0>"
      ]
     },
     "execution_count": 6,
     "metadata": {},
     "output_type": "execute_result"
    }
   ],
   "source": [
    "# we train it very long to observe overfitting\n",
    "model.fit(scaled_X_train_val, y_train_val, epochs = 1000, validation_data=(scaled_X_val, y_val), verbose = 0)"
   ]
  },
  {
   "cell_type": "code",
   "execution_count": 7,
   "metadata": {},
   "outputs": [
    {
     "data": {
      "text/plain": [
       "<AxesSubplot:title={'center':'Training and validation loss'}, xlabel='Epochs', ylabel='Cross-entropy loss'>"
      ]
     },
     "execution_count": 7,
     "metadata": {},
     "output_type": "execute_result"
    },
    {
     "data": {
      "image/png": "[encoded data removed]",
      "text/plain": [
       "<Figure size 432x288 with 1 Axes>"
      ]
     },
     "metadata": {},
     "output_type": "display_data"
    }
   ],
   "source": [
    "import pandas as pd\n",
    "pd.DataFrame(model.history.history).plot(xlabel=\"Epochs\",\n",
    "                                         ylabel=\"Cross-entropy loss\", title=\"Training and validation loss\")\n",
    "# clearly see overfitting here as the validation loss increases, while training loss decreases\n",
    "# this means the model can't generalize to data it hasn't seen\n",
    "# actually our model seems to overfit very early, indicating that we need to have a less complex model"
   ]
  },
  {
   "cell_type": "markdown",
   "metadata": {},
   "source": [
    "---\n",
    "## Early stopping\n",
    "\n",
    "We can simple choose to stop the model before the validation loss increases. This is basically a free lunch."
   ]
  },
  {
   "cell_type": "code",
   "execution_count": 8,
   "metadata": {},
   "outputs": [
    {
     "name": "stdout",
     "output_type": "stream",
     "text": [
      "Epoch 1/1000\n",
      "13/13 [==============================] - 1s 14ms/step - loss: 0.5441 - val_loss: 0.4385\n",
      "Epoch 2/1000\n",
      "13/13 [==============================] - 0s 4ms/step - loss: 0.3634 - val_loss: 0.3062\n",
      "Epoch 3/1000\n",
      "13/13 [==============================] - 0s 5ms/step - loss: 0.2595 - val_loss: 0.2324\n",
      "Epoch 4/1000\n",
      "13/13 [==============================] - 0s 7ms/step - loss: 0.1997 - val_loss: 0.1899\n",
      "Epoch 5/1000\n",
      "13/13 [==============================] - 0s 4ms/step - loss: 0.1650 - val_loss: 0.1615\n",
      "Epoch 6/1000\n",
      "13/13 [==============================] - 0s 5ms/step - loss: 0.1404 - val_loss: 0.1411\n",
      "Epoch 7/1000\n",
      "13/13 [==============================] - 0s 4ms/step - loss: 0.1234 - val_loss: 0.1259\n",
      "Epoch 8/1000\n",
      "13/13 [==============================] - 0s 5ms/step - loss: 0.1091 - val_loss: 0.1130\n",
      "Epoch 9/1000\n",
      "13/13 [==============================] - 0s 5ms/step - loss: 0.0982 - val_loss: 0.1020\n",
      "Epoch 10/1000\n",
      "13/13 [==============================] - 0s 4ms/step - loss: 0.0891 - val_loss: 0.0929\n",
      "Epoch 11/1000\n",
      "13/13 [==============================] - 0s 4ms/step - loss: 0.0810 - val_loss: 0.0859\n",
      "Epoch 12/1000\n",
      "13/13 [==============================] - 0s 4ms/step - loss: 0.0743 - val_loss: 0.0805\n",
      "Epoch 13/1000\n",
      "13/13 [==============================] - 0s 4ms/step - loss: 0.0689 - val_loss: 0.0761\n",
      "Epoch 14/1000\n",
      "13/13 [==============================] - 0s 10ms/step - loss: 0.0642 - val_loss: 0.0715\n",
      "Epoch 15/1000\n",
      "13/13 [==============================] - 0s 5ms/step - loss: 0.0597 - val_loss: 0.0681\n",
      "Epoch 16/1000\n",
      "13/13 [==============================] - 0s 5ms/step - loss: 0.0560 - val_loss: 0.0670\n",
      "Epoch 17/1000\n",
      "13/13 [==============================] - 0s 4ms/step - loss: 0.0529 - val_loss: 0.0650\n",
      "Epoch 18/1000\n",
      "13/13 [==============================] - 0s 5ms/step - loss: 0.0501 - val_loss: 0.0640\n",
      "Epoch 19/1000\n",
      "13/13 [==============================] - 0s 5ms/step - loss: 0.0479 - val_loss: 0.0619\n",
      "Epoch 20/1000\n",
      "13/13 [==============================] - 0s 5ms/step - loss: 0.0458 - val_loss: 0.0595\n",
      "Epoch 21/1000\n",
      "13/13 [==============================] - 0s 5ms/step - loss: 0.0435 - val_loss: 0.0608\n",
      "Epoch 22/1000\n",
      "13/13 [==============================] - 0s 4ms/step - loss: 0.0417 - val_loss: 0.0589\n",
      "Epoch 23/1000\n",
      "13/13 [==============================] - 0s 5ms/step - loss: 0.0401 - val_loss: 0.0586\n",
      "Epoch 24/1000\n",
      "13/13 [==============================] - 0s 5ms/step - loss: 0.0384 - val_loss: 0.0581\n",
      "Epoch 25/1000\n",
      "13/13 [==============================] - 0s 5ms/step - loss: 0.0369 - val_loss: 0.0572\n",
      "Epoch 26/1000\n",
      "13/13 [==============================] - 0s 4ms/step - loss: 0.0356 - val_loss: 0.0552\n",
      "Epoch 27/1000\n",
      "13/13 [==============================] - 0s 5ms/step - loss: 0.0341 - val_loss: 0.0565\n",
      "Epoch 28/1000\n",
      "13/13 [==============================] - 0s 4ms/step - loss: 0.0325 - val_loss: 0.0543\n",
      "Epoch 29/1000\n",
      "13/13 [==============================] - 0s 5ms/step - loss: 0.0314 - val_loss: 0.0556\n",
      "Epoch 30/1000\n",
      "13/13 [==============================] - 0s 5ms/step - loss: 0.0301 - val_loss: 0.0529\n",
      "Epoch 31/1000\n",
      "13/13 [==============================] - 0s 5ms/step - loss: 0.0286 - val_loss: 0.0527\n",
      "Epoch 32/1000\n",
      "13/13 [==============================] - 0s 4ms/step - loss: 0.0274 - val_loss: 0.0535\n",
      "Epoch 33/1000\n",
      "13/13 [==============================] - 0s 5ms/step - loss: 0.0261 - val_loss: 0.0533\n",
      "Epoch 34/1000\n",
      "13/13 [==============================] - 0s 6ms/step - loss: 0.0249 - val_loss: 0.0544\n",
      "Epoch 35/1000\n",
      "13/13 [==============================] - 0s 7ms/step - loss: 0.0235 - val_loss: 0.0529\n",
      "Epoch 36/1000\n",
      "13/13 [==============================] - 0s 7ms/step - loss: 0.0224 - val_loss: 0.0543\n",
      "Epoch 37/1000\n",
      "13/13 [==============================] - 0s 7ms/step - loss: 0.0214 - val_loss: 0.0529\n",
      "Epoch 38/1000\n",
      "13/13 [==============================] - 0s 6ms/step - loss: 0.0201 - val_loss: 0.0523\n",
      "Epoch 39/1000\n",
      "13/13 [==============================] - 0s 6ms/step - loss: 0.0186 - val_loss: 0.0550\n",
      "Epoch 40/1000\n",
      "13/13 [==============================] - 0s 5ms/step - loss: 0.0182 - val_loss: 0.0540\n",
      "Epoch 41/1000\n",
      "13/13 [==============================] - 0s 5ms/step - loss: 0.0164 - val_loss: 0.0551\n",
      "Epoch 42/1000\n",
      "13/13 [==============================] - 0s 6ms/step - loss: 0.0155 - val_loss: 0.0543\n",
      "Epoch 43/1000\n",
      "13/13 [==============================] - 0s 5ms/step - loss: 0.0146 - val_loss: 0.0561\n",
      "Epoch 44/1000\n",
      "13/13 [==============================] - 0s 5ms/step - loss: 0.0136 - val_loss: 0.0560\n",
      "Epoch 45/1000\n",
      "13/13 [==============================] - 0s 5ms/step - loss: 0.0134 - val_loss: 0.0559\n",
      "Epoch 46/1000\n",
      "13/13 [==============================] - 0s 9ms/step - loss: 0.0123 - val_loss: 0.0570\n",
      "Epoch 47/1000\n",
      "13/13 [==============================] - 0s 5ms/step - loss: 0.0115 - val_loss: 0.0563\n",
      "Epoch 48/1000\n",
      "13/13 [==============================] - 0s 5ms/step - loss: 0.0110 - val_loss: 0.0601\n",
      "Epoch 49/1000\n",
      "13/13 [==============================] - 0s 6ms/step - loss: 0.0104 - val_loss: 0.0587\n",
      "Epoch 50/1000\n",
      "13/13 [==============================] - 0s 10ms/step - loss: 0.0097 - val_loss: 0.0608\n",
      "Epoch 51/1000\n",
      "13/13 [==============================] - 0s 5ms/step - loss: 0.0092 - val_loss: 0.0582\n",
      "Epoch 52/1000\n",
      "13/13 [==============================] - 0s 4ms/step - loss: 0.0088 - val_loss: 0.0596\n",
      "Epoch 53/1000\n",
      "13/13 [==============================] - 0s 5ms/step - loss: 0.0083 - val_loss: 0.0592\n"
     ]
    },
    {
     "data": {
      "text/plain": [
       "<keras.callbacks.History at 0x23ed5253d60>"
      ]
     },
     "execution_count": 8,
     "metadata": {},
     "output_type": "execute_result"
    }
   ],
   "source": [
    "from tensorflow.keras.callbacks import EarlyStopping\n",
    "\n",
    "# don't stop immediately -> stop after 15\n",
    "# min mode -> stop when quantity monitored stopped decreasing\n",
    "early_stopper = EarlyStopping(monitor=\"val_loss\", mode=\"min\", patience=15)\n",
    "\n",
    "# note that we have to redefine the model, else it will continue training on the previous model\n",
    "model = MLP_model()\n",
    "\n",
    "# note that the callbacks accept a list of callback functions that will run during the training\n",
    "model.fit(scaled_X_train_val, y_train_val, epochs=1000,\n",
    "          validation_data=[scaled_X_val, y_val], callbacks=[early_stopper], verbose=1)\n"
   ]
  },
  {
   "cell_type": "code",
   "execution_count": 9,
   "metadata": {},
   "outputs": [
    {
     "data": {
      "image/png": "[encoded data removed]",
      "text/plain": [
       "<Figure size 432x288 with 1 Axes>"
      ]
     },
     "metadata": {},
     "output_type": "display_data"
    }
   ],
   "source": [
    "# this is much better\n",
    "df_loss = pd.DataFrame(model.history.history)\n",
    "df_loss.plot(xlabel=\"Epochs\",\n",
    "             ylabel=\"Crossentropy loss\", title=\"Loss with early stopping\");\n",
    "\n",
    "# To improve on this we should simplify the network more to get validation loss closer to training loss.\n",
    "# I will let you explore this yourself\n"
   ]
  },
  {
   "cell_type": "code",
   "execution_count": 12,
   "metadata": {},
   "outputs": [
    {
     "data": {
      "text/html": [
       "<div>\n",
       "<style scoped>\n",
       "    .dataframe tbody tr th:only-of-type {\n",
       "        vertical-align: middle;\n",
       "    }\n",
       "\n",
       "    .dataframe tbody tr th {\n",
       "        vertical-align: top;\n",
       "    }\n",
       "\n",
       "    .dataframe thead th {\n",
       "        text-align: right;\n",
       "    }\n",
       "</style>\n",
       "<table border=\"1\" class=\"dataframe\">\n",
       "  <thead>\n",
       "    <tr style=\"text-align: right;\">\n",
       "      <th></th>\n",
       "      <th>loss</th>\n",
       "      <th>val_loss</th>\n",
       "    </tr>\n",
       "  </thead>\n",
       "  <tbody>\n",
       "    <tr>\n",
       "      <th>0</th>\n",
       "      <td>0.544142</td>\n",
       "      <td>0.438516</td>\n",
       "    </tr>\n",
       "    <tr>\n",
       "      <th>1</th>\n",
       "      <td>0.363404</td>\n",
       "      <td>0.306221</td>\n",
       "    </tr>\n",
       "    <tr>\n",
       "      <th>2</th>\n",
       "      <td>0.259534</td>\n",
       "      <td>0.232409</td>\n",
       "    </tr>\n",
       "    <tr>\n",
       "      <th>3</th>\n",
       "      <td>0.199739</td>\n",
       "      <td>0.189851</td>\n",
       "    </tr>\n",
       "    <tr>\n",
       "      <th>4</th>\n",
       "      <td>0.165016</td>\n",
       "      <td>0.161548</td>\n",
       "    </tr>\n",
       "    <tr>\n",
       "      <th>5</th>\n",
       "      <td>0.140367</td>\n",
       "      <td>0.141055</td>\n",
       "    </tr>\n",
       "    <tr>\n",
       "      <th>6</th>\n",
       "      <td>0.123378</td>\n",
       "      <td>0.125865</td>\n",
       "    </tr>\n",
       "    <tr>\n",
       "      <th>7</th>\n",
       "      <td>0.109121</td>\n",
       "      <td>0.112957</td>\n",
       "    </tr>\n",
       "    <tr>\n",
       "      <th>8</th>\n",
       "      <td>0.098219</td>\n",
       "      <td>0.102041</td>\n",
       "    </tr>\n",
       "    <tr>\n",
       "      <th>9</th>\n",
       "      <td>0.089133</td>\n",
       "      <td>0.092864</td>\n",
       "    </tr>\n",
       "    <tr>\n",
       "      <th>10</th>\n",
       "      <td>0.080967</td>\n",
       "      <td>0.085852</td>\n",
       "    </tr>\n",
       "    <tr>\n",
       "      <th>11</th>\n",
       "      <td>0.074278</td>\n",
       "      <td>0.080526</td>\n",
       "    </tr>\n",
       "    <tr>\n",
       "      <th>12</th>\n",
       "      <td>0.068913</td>\n",
       "      <td>0.076065</td>\n",
       "    </tr>\n",
       "    <tr>\n",
       "      <th>13</th>\n",
       "      <td>0.064215</td>\n",
       "      <td>0.071536</td>\n",
       "    </tr>\n",
       "    <tr>\n",
       "      <th>14</th>\n",
       "      <td>0.059739</td>\n",
       "      <td>0.068057</td>\n",
       "    </tr>\n",
       "    <tr>\n",
       "      <th>15</th>\n",
       "      <td>0.056024</td>\n",
       "      <td>0.067025</td>\n",
       "    </tr>\n",
       "    <tr>\n",
       "      <th>16</th>\n",
       "      <td>0.052913</td>\n",
       "      <td>0.065010</td>\n",
       "    </tr>\n",
       "    <tr>\n",
       "      <th>17</th>\n",
       "      <td>0.050087</td>\n",
       "      <td>0.063950</td>\n",
       "    </tr>\n",
       "    <tr>\n",
       "      <th>18</th>\n",
       "      <td>0.047892</td>\n",
       "      <td>0.061929</td>\n",
       "    </tr>\n",
       "    <tr>\n",
       "      <th>19</th>\n",
       "      <td>0.045809</td>\n",
       "      <td>0.059491</td>\n",
       "    </tr>\n",
       "    <tr>\n",
       "      <th>20</th>\n",
       "      <td>0.043512</td>\n",
       "      <td>0.060823</td>\n",
       "    </tr>\n",
       "    <tr>\n",
       "      <th>21</th>\n",
       "      <td>0.041663</td>\n",
       "      <td>0.058854</td>\n",
       "    </tr>\n",
       "    <tr>\n",
       "      <th>22</th>\n",
       "      <td>0.040123</td>\n",
       "      <td>0.058612</td>\n",
       "    </tr>\n",
       "    <tr>\n",
       "      <th>23</th>\n",
       "      <td>0.038381</td>\n",
       "      <td>0.058064</td>\n",
       "    </tr>\n",
       "    <tr>\n",
       "      <th>24</th>\n",
       "      <td>0.036864</td>\n",
       "      <td>0.057180</td>\n",
       "    </tr>\n",
       "    <tr>\n",
       "      <th>25</th>\n",
       "      <td>0.035611</td>\n",
       "      <td>0.055222</td>\n",
       "    </tr>\n",
       "    <tr>\n",
       "      <th>26</th>\n",
       "      <td>0.034103</td>\n",
       "      <td>0.056480</td>\n",
       "    </tr>\n",
       "    <tr>\n",
       "      <th>27</th>\n",
       "      <td>0.032532</td>\n",
       "      <td>0.054303</td>\n",
       "    </tr>\n",
       "    <tr>\n",
       "      <th>28</th>\n",
       "      <td>0.031416</td>\n",
       "      <td>0.055566</td>\n",
       "    </tr>\n",
       "    <tr>\n",
       "      <th>29</th>\n",
       "      <td>0.030062</td>\n",
       "      <td>0.052946</td>\n",
       "    </tr>\n",
       "    <tr>\n",
       "      <th>30</th>\n",
       "      <td>0.028601</td>\n",
       "      <td>0.052703</td>\n",
       "    </tr>\n",
       "    <tr>\n",
       "      <th>31</th>\n",
       "      <td>0.027357</td>\n",
       "      <td>0.053483</td>\n",
       "    </tr>\n",
       "    <tr>\n",
       "      <th>32</th>\n",
       "      <td>0.026095</td>\n",
       "      <td>0.053251</td>\n",
       "    </tr>\n",
       "    <tr>\n",
       "      <th>33</th>\n",
       "      <td>0.024861</td>\n",
       "      <td>0.054357</td>\n",
       "    </tr>\n",
       "    <tr>\n",
       "      <th>34</th>\n",
       "      <td>0.023521</td>\n",
       "      <td>0.052923</td>\n",
       "    </tr>\n",
       "    <tr>\n",
       "      <th>35</th>\n",
       "      <td>0.022423</td>\n",
       "      <td>0.054268</td>\n",
       "    </tr>\n",
       "    <tr>\n",
       "      <th>36</th>\n",
       "      <td>0.021355</td>\n",
       "      <td>0.052917</td>\n",
       "    </tr>\n",
       "    <tr>\n",
       "      <th>37</th>\n",
       "      <td>0.020134</td>\n",
       "      <td>0.052273</td>\n",
       "    </tr>\n",
       "    <tr>\n",
       "      <th>38</th>\n",
       "      <td>0.018640</td>\n",
       "      <td>0.055006</td>\n",
       "    </tr>\n",
       "    <tr>\n",
       "      <th>39</th>\n",
       "      <td>0.018151</td>\n",
       "      <td>0.053992</td>\n",
       "    </tr>\n",
       "    <tr>\n",
       "      <th>40</th>\n",
       "      <td>0.016387</td>\n",
       "      <td>0.055149</td>\n",
       "    </tr>\n",
       "    <tr>\n",
       "      <th>41</th>\n",
       "      <td>0.015517</td>\n",
       "      <td>0.054335</td>\n",
       "    </tr>\n",
       "    <tr>\n",
       "      <th>42</th>\n",
       "      <td>0.014641</td>\n",
       "      <td>0.056090</td>\n",
       "    </tr>\n",
       "    <tr>\n",
       "      <th>43</th>\n",
       "      <td>0.013601</td>\n",
       "      <td>0.055989</td>\n",
       "    </tr>\n",
       "    <tr>\n",
       "      <th>44</th>\n",
       "      <td>0.013379</td>\n",
       "      <td>0.055925</td>\n",
       "    </tr>\n",
       "    <tr>\n",
       "      <th>45</th>\n",
       "      <td>0.012303</td>\n",
       "      <td>0.056952</td>\n",
       "    </tr>\n",
       "    <tr>\n",
       "      <th>46</th>\n",
       "      <td>0.011468</td>\n",
       "      <td>0.056258</td>\n",
       "    </tr>\n",
       "    <tr>\n",
       "      <th>47</th>\n",
       "      <td>0.010961</td>\n",
       "      <td>0.060137</td>\n",
       "    </tr>\n",
       "    <tr>\n",
       "      <th>48</th>\n",
       "      <td>0.010381</td>\n",
       "      <td>0.058672</td>\n",
       "    </tr>\n",
       "    <tr>\n",
       "      <th>49</th>\n",
       "      <td>0.009706</td>\n",
       "      <td>0.060776</td>\n",
       "    </tr>\n",
       "    <tr>\n",
       "      <th>50</th>\n",
       "      <td>0.009153</td>\n",
       "      <td>0.058164</td>\n",
       "    </tr>\n",
       "    <tr>\n",
       "      <th>51</th>\n",
       "      <td>0.008820</td>\n",
       "      <td>0.059610</td>\n",
       "    </tr>\n",
       "    <tr>\n",
       "      <th>52</th>\n",
       "      <td>0.008323</td>\n",
       "      <td>0.059184</td>\n",
       "    </tr>\n",
       "  </tbody>\n",
       "</table>\n",
       "</div>"
      ],
      "text/plain": [
       "        loss  val_loss\n",
       "0   0.544142  0.438516\n",
       "1   0.363404  0.306221\n",
       "2   0.259534  0.232409\n",
       "3   0.199739  0.189851\n",
       "4   0.165016  0.161548\n",
       "5   0.140367  0.141055\n",
       "6   0.123378  0.125865\n",
       "7   0.109121  0.112957\n",
       "8   0.098219  0.102041\n",
       "9   0.089133  0.092864\n",
       "10  0.080967  0.085852\n",
       "11  0.074278  0.080526\n",
       "12  0.068913  0.076065\n",
       "13  0.064215  0.071536\n",
       "14  0.059739  0.068057\n",
       "15  0.056024  0.067025\n",
       "16  0.052913  0.065010\n",
       "17  0.050087  0.063950\n",
       "18  0.047892  0.061929\n",
       "19  0.045809  0.059491\n",
       "20  0.043512  0.060823\n",
       "21  0.041663  0.058854\n",
       "22  0.040123  0.058612\n",
       "23  0.038381  0.058064\n",
       "24  0.036864  0.057180\n",
       "25  0.035611  0.055222\n",
       "26  0.034103  0.056480\n",
       "27  0.032532  0.054303\n",
       "28  0.031416  0.055566\n",
       "29  0.030062  0.052946\n",
       "30  0.028601  0.052703\n",
       "31  0.027357  0.053483\n",
       "32  0.026095  0.053251\n",
       "33  0.024861  0.054357\n",
       "34  0.023521  0.052923\n",
       "35  0.022423  0.054268\n",
       "36  0.021355  0.052917\n",
       "37  0.020134  0.052273\n",
       "38  0.018640  0.055006\n",
       "39  0.018151  0.053992\n",
       "40  0.016387  0.055149\n",
       "41  0.015517  0.054335\n",
       "42  0.014641  0.056090\n",
       "43  0.013601  0.055989\n",
       "44  0.013379  0.055925\n",
       "45  0.012303  0.056952\n",
       "46  0.011468  0.056258\n",
       "47  0.010961  0.060137\n",
       "48  0.010381  0.058672\n",
       "49  0.009706  0.060776\n",
       "50  0.009153  0.058164\n",
       "51  0.008820  0.059610\n",
       "52  0.008323  0.059184"
      ]
     },
     "execution_count": 12,
     "metadata": {},
     "output_type": "execute_result"
    }
   ],
   "source": [
    "df_loss"
   ]
  },
  {
   "cell_type": "markdown",
   "metadata": {},
   "source": [
    "---\n",
    "## Prediction and evaluation\n",
    "\n",
    "- note that we changed the number of epochs, which is a hyperparameter tuning\n",
    "- we did this on the validation data which is okay, we don't have data leakage\n",
    "- before prediction we will utilize all training data, i.e. training and evaluation\n",
    "- then predict on test data"
   ]
  },
  {
   "cell_type": "code",
   "execution_count": 11,
   "metadata": {},
   "outputs": [
    {
     "data": {
      "text/plain": [
       "53"
      ]
     },
     "execution_count": 11,
     "metadata": {},
     "output_type": "execute_result"
    }
   ],
   "source": [
    "len(df_loss)"
   ]
  },
  {
   "cell_type": "code",
   "execution_count": 10,
   "metadata": {},
   "outputs": [
    {
     "name": "stdout",
     "output_type": "stream",
     "text": [
      "(483, 30) (483,) (483, 1)\n",
      "[[9.7804725e-01]\n",
      " [1.1508621e-06]\n",
      " [6.8902969e-04]]\n",
      "              precision    recall  f1-score   support\n",
      "\n",
      "           0       1.00      0.94      0.97        32\n",
      "           1       0.96      1.00      0.98        54\n",
      "\n",
      "    accuracy                           0.98        86\n",
      "   macro avg       0.98      0.97      0.97        86\n",
      "weighted avg       0.98      0.98      0.98        86\n",
      "\n"
     ]
    },
    {
     "data": {
      "image/png": "[encoded data removed]",
      "text/plain": [
       "<Figure size 432x288 with 2 Axes>"
      ]
     },
     "metadata": {},
     "output_type": "display_data"
    }
   ],
   "source": [
    "from sklearn.metrics import classification_report, confusion_matrix, ConfusionMatrixDisplay\n",
    "model = MLP_model()\n",
    "\n",
    "# model fit needs to have same shapes \n",
    "print(scaled_X_train.shape, y_train.shape, y_train[:,None].shape)\n",
    "\n",
    "model.fit(scaled_X_train, y_train[:,None], epochs=len(df_loss),\n",
    "          validation_data=[scaled_X_test, y_test], callbacks=[early_stopper], verbose=0)\n",
    "\n",
    "final_loss = pd.DataFrame(model.history.history)\n",
    "\n",
    "y_pred = model.predict(scaled_X_test)\n",
    "print(y_pred[:3]) # probabilities due to sigmoid activation function\n",
    "\n",
    "y_pred = np.round(y_pred)\n",
    "\n",
    "cm = confusion_matrix(y_test, y_pred)\n",
    "ConfusionMatrixDisplay(cm).plot()\n",
    "print(classification_report(y_test, y_pred))"
   ]
  }
 ],
 "metadata": {
  "interpreter": {
   "hash": "99284c818dbeb598aa1f68004bbb0b5edd120a68b4d8720a3a3dd099e220abe1"
  },
  "kernelspec": {
   "display_name": "Python 3.9.9 ('ML_exploration-5IpxFwVQ')",
   "language": "python",
   "name": "python3"
  },
  "language_info": {
   "codemirror_mode": {
    "name": "ipython",
    "version": 3
   },
   "file_extension": ".py",
   "mimetype": "text/x-python",
   "name": "python",
   "nbconvert_exporter": "python",
   "pygments_lexer": "ipython3",
   "version": "3.9.6"
  },
  "orig_nbformat": 4
 },
 "nbformat": 4,
 "nbformat_minor": 2
}
